{
 "cells": [
  {
   "cell_type": "code",
   "execution_count": 104,
   "metadata": {},
   "outputs": [],
   "source": [
    "import numpy as np\n",
    "from tensorflow.keras.models import Sequential\n",
    "from tensorflow.keras.layers import LSTM\n",
    "from tensorflow.keras.layers import Dense, Dropout\n",
    "import pandas as pd\n",
    "from matplotlib import pyplot as plt\n",
    "import matplotlib as mpl\n",
    "from datetime import datetime, timedelta\n",
    "from sklearn.preprocessing import StandardScaler\n",
    "import seaborn as sns\n",
    "mpl.rcParams['figure.figsize'] = (16, 8)\n",
    "mpl.rcParams['axes.grid'] = False"
   ]
  },
  {
   "cell_type": "code",
   "execution_count": 44,
   "metadata": {},
   "outputs": [
    {
     "data": {
      "text/html": [
       "<div>\n",
       "<style scoped>\n",
       "    .dataframe tbody tr th:only-of-type {\n",
       "        vertical-align: middle;\n",
       "    }\n",
       "\n",
       "    .dataframe tbody tr th {\n",
       "        vertical-align: top;\n",
       "    }\n",
       "\n",
       "    .dataframe thead th {\n",
       "        text-align: right;\n",
       "    }\n",
       "</style>\n",
       "<table border=\"1\" class=\"dataframe\">\n",
       "  <thead>\n",
       "    <tr style=\"text-align: right;\">\n",
       "      <th></th>\n",
       "      <th>Exchange Rate</th>\n",
       "      <th>Oil price</th>\n",
       "      <th>Gold price</th>\n",
       "      <th>VN Index</th>\n",
       "      <th>S&amp;P500</th>\n",
       "    </tr>\n",
       "  </thead>\n",
       "  <tbody>\n",
       "    <tr>\n",
       "      <th>2012-01-01</th>\n",
       "      <td>21016.5</td>\n",
       "      <td>98.01667</td>\n",
       "      <td>1686.6666</td>\n",
       "      <td>377.63000</td>\n",
       "      <td>1301.9266</td>\n",
       "    </tr>\n",
       "    <tr>\n",
       "      <th>2012-01-02</th>\n",
       "      <td>21008.0</td>\n",
       "      <td>97.61000</td>\n",
       "      <td>1747.1000</td>\n",
       "      <td>390.67000</td>\n",
       "      <td>1324.0900</td>\n",
       "    </tr>\n",
       "    <tr>\n",
       "      <th>2012-01-03</th>\n",
       "      <td>20845.0</td>\n",
       "      <td>108.84000</td>\n",
       "      <td>1721.1000</td>\n",
       "      <td>427.95000</td>\n",
       "      <td>1374.0900</td>\n",
       "    </tr>\n",
       "    <tr>\n",
       "      <th>2012-01-04</th>\n",
       "      <td>20855.0</td>\n",
       "      <td>107.50000</td>\n",
       "      <td>1691.3999</td>\n",
       "      <td>428.23334</td>\n",
       "      <td>1389.9550</td>\n",
       "    </tr>\n",
       "    <tr>\n",
       "      <th>2012-01-05</th>\n",
       "      <td>20865.0</td>\n",
       "      <td>106.16000</td>\n",
       "      <td>1661.7000</td>\n",
       "      <td>428.51666</td>\n",
       "      <td>1405.8200</td>\n",
       "    </tr>\n",
       "  </tbody>\n",
       "</table>\n",
       "</div>"
      ],
      "text/plain": [
       "            Exchange Rate  Oil price  Gold price   VN Index     S&P500\n",
       "2012-01-01        21016.5   98.01667   1686.6666  377.63000  1301.9266\n",
       "2012-01-02        21008.0   97.61000   1747.1000  390.67000  1324.0900\n",
       "2012-01-03        20845.0  108.84000   1721.1000  427.95000  1374.0900\n",
       "2012-01-04        20855.0  107.50000   1691.3999  428.23334  1389.9550\n",
       "2012-01-05        20865.0  106.16000   1661.7000  428.51666  1405.8200"
      ]
     },
     "execution_count": 44,
     "metadata": {},
     "output_type": "execute_result"
    }
   ],
   "source": [
    "#Read the csv file\n",
    "df=pd.read_csv('output.csv', index_col=0, parse_dates=True)\n",
    "df.head()"
   ]
  },
  {
   "cell_type": "code",
   "execution_count": 45,
   "metadata": {},
   "outputs": [
    {
     "data": {
      "text/plain": [
       "DatetimeIndex(['2012-01-01', '2012-01-02', '2012-01-03', '2012-01-04',\n",
       "               '2012-01-05', '2012-01-06', '2012-01-07', '2012-01-08',\n",
       "               '2012-01-09', '2012-01-10',\n",
       "               ...\n",
       "               '2022-05-22', '2022-05-23', '2022-05-24', '2022-05-25',\n",
       "               '2022-05-26', '2022-05-27', '2022-05-28', '2022-05-29',\n",
       "               '2022-05-30', '2022-05-31'],\n",
       "              dtype='datetime64[ns]', length=3804, freq=None)"
      ]
     },
     "execution_count": 45,
     "metadata": {},
     "output_type": "execute_result"
    }
   ],
   "source": [
    "train_dates = df.index\n",
    "train_dates"
   ]
  },
  {
   "cell_type": "code",
   "execution_count": 46,
   "metadata": {},
   "outputs": [
    {
     "name": "stdout",
     "output_type": "stream",
     "text": [
      "['Oil price', 'Gold price', 'VN Index', 'S&P500']\n"
     ]
    }
   ],
   "source": [
    "cols = list(df)[1:6]\n",
    "#Date and volume columns are not used in training. \n",
    "print(cols) #['Open', 'High', 'Low', 'Close', 'Adj Close']\n"
   ]
  },
  {
   "cell_type": "code",
   "execution_count": 47,
   "metadata": {},
   "outputs": [],
   "source": [
    "df_for_training = df[cols].astype(float)"
   ]
  },
  {
   "cell_type": "code",
   "execution_count": 48,
   "metadata": {},
   "outputs": [],
   "source": [
    "scaler = StandardScaler()\n",
    "scaler = scaler.fit(df_for_training)\n",
    "df_for_training_scaled = scaler.transform(df_for_training)"
   ]
  },
  {
   "cell_type": "code",
   "execution_count": 49,
   "metadata": {},
   "outputs": [
    {
     "name": "stdout",
     "output_type": "stream",
     "text": [
      "trainX shape == (3790, 14, 4).\n",
      "trainY shape == (3790, 1).\n"
     ]
    }
   ],
   "source": [
    "trainX = []\n",
    "trainY = []\n",
    "\n",
    "n_future = 1   # Number of days we want to look into the future based on the past days.\n",
    "n_past = 14  # Number of past days we want to use to predict the future.\n",
    "\n",
    "#Reformat input data into a shape: (n_samples x timesteps x n_features)\n",
    "#In my example, my df_for_training_scaled has a shape (12823, 4)\n",
    "#12823 refers to the number of data points and 4 refers to the columns (multi-variables).\n",
    "for i in range(n_past, len(df_for_training_scaled) - n_future +1):\n",
    "    trainX.append(df_for_training_scaled[i - n_past:i, 0:df_for_training.shape[1]])\n",
    "    trainY.append(df_for_training_scaled[i + n_future - 1:i + n_future, 2])\n",
    "\n",
    "trainX, trainY = np.array(trainX), np.array(trainY)\n",
    "\n",
    "print('trainX shape == {}.'.format(trainX.shape))\n",
    "print('trainY shape == {}.'.format(trainY.shape))"
   ]
  },
  {
   "cell_type": "code",
   "execution_count": 50,
   "metadata": {},
   "outputs": [
    {
     "data": {
      "text/plain": [
       "array([[[ 1.34709808,  0.93558905, -1.38886543, -1.3990177 ],\n",
       "        [ 1.32937754,  1.17694986, -1.34500031, -1.3740615 ],\n",
       "        [ 1.81872181,  1.07311024, -1.21959451, -1.31776101],\n",
       "        ...,\n",
       "        [ 1.12392267,  0.87801158, -1.41069707, -1.33549566],\n",
       "        [ 1.376874  ,  0.71086973, -1.46724405, -1.41347184],\n",
       "        [ 1.39877031,  0.73563149, -1.46327473, -1.41218256]],\n",
       "\n",
       "       [[ 1.32937754,  1.17694986, -1.34500031, -1.3740615 ],\n",
       "        [ 1.81872181,  1.07311024, -1.21959451, -1.31776101],\n",
       "        [ 1.76033166,  0.95449305, -1.21864138, -1.29989686],\n",
       "        ...,\n",
       "        [ 1.376874  ,  0.71086973, -1.46724405, -1.41347184],\n",
       "        [ 1.39877031,  0.73563149, -1.46327473, -1.41218256],\n",
       "        [ 1.42066661,  0.76039324, -1.45930527, -1.41089328]],\n",
       "\n",
       "       [[ 1.81872181,  1.07311024, -1.21959451, -1.31776101],\n",
       "        [ 1.76033166,  0.95449305, -1.21864138, -1.29989686],\n",
       "        [ 1.70194152,  0.83587666, -1.21768832, -1.28203272],\n",
       "        ...,\n",
       "        [ 1.39877031,  0.73563149, -1.46327473, -1.41218256],\n",
       "        [ 1.42066661,  0.76039324, -1.45930527, -1.41089328],\n",
       "        [ 1.44256292,  0.785155  , -1.45533588, -1.409604  ]],\n",
       "\n",
       "       ...,\n",
       "\n",
       "       [[ 1.99839482,  1.46224241,  1.2952715 ,  1.65401893],\n",
       "        [ 2.05228238,  1.4696977 ,  1.2831393 ,  1.64805874],\n",
       "        [ 1.97384786,  1.48966685,  1.47292994,  1.73908537],\n",
       "        ...,\n",
       "        [ 2.04748916,  1.60349105,  1.6081583 ,  1.70416781],\n",
       "        [ 2.0901924 ,  1.61707008,  1.66494076,  1.81721919],\n",
       "        [ 2.10195758,  1.59780024,  1.67443803,  1.80987536]],\n",
       "\n",
       "       [[ 2.05228238,  1.4696977 ,  1.2831393 ,  1.64805874],\n",
       "        [ 1.97384786,  1.48966685,  1.47292994,  1.73908537],\n",
       "        [ 1.85140286,  1.47768536,  1.51460853,  1.55310233],\n",
       "        ...,\n",
       "        [ 2.0901924 ,  1.61707008,  1.66494076,  1.81721919],\n",
       "        [ 2.10195758,  1.59780024,  1.67443803,  1.80987536],\n",
       "        [ 2.11372276,  1.5785296 ,  1.68393563,  1.80253073]],\n",
       "\n",
       "       [[ 1.97384786,  1.48966685,  1.47292994,  1.73908537],\n",
       "        [ 1.85140286,  1.47768536,  1.51460853,  1.55310233],\n",
       "        [ 1.96556866,  1.57912868,  1.51756876,  1.52732797],\n",
       "        ...,\n",
       "        [ 2.10195758,  1.59780024,  1.67443803,  1.80987536],\n",
       "        [ 2.11372276,  1.5785296 ,  1.68393563,  1.80253073],\n",
       "        [ 2.20087223,  1.6094818 ,  1.6934329 ,  1.79518588]]])"
      ]
     },
     "execution_count": 50,
     "metadata": {},
     "output_type": "execute_result"
    }
   ],
   "source": [
    "trainX"
   ]
  },
  {
   "cell_type": "code",
   "execution_count": 51,
   "metadata": {},
   "outputs": [
    {
     "data": {
      "text/plain": [
       "array([[-1.45930527],\n",
       "       [-1.45533588],\n",
       "       [-1.45200563],\n",
       "       ...,\n",
       "       [ 1.68393563],\n",
       "       [ 1.6934329 ],\n",
       "       [ 1.68926168]])"
      ]
     },
     "execution_count": 51,
     "metadata": {},
     "output_type": "execute_result"
    }
   ],
   "source": [
    "trainY"
   ]
  },
  {
   "cell_type": "code",
   "execution_count": 52,
   "metadata": {},
   "outputs": [
    {
     "name": "stdout",
     "output_type": "stream",
     "text": [
      "Model: \"sequential_2\"\n",
      "_________________________________________________________________\n",
      " Layer (type)                Output Shape              Param #   \n",
      "=================================================================\n",
      " lstm_4 (LSTM)               (None, 14, 64)            17664     \n",
      "                                                                 \n",
      " lstm_5 (LSTM)               (None, 32)                12416     \n",
      "                                                                 \n",
      " dropout_2 (Dropout)         (None, 32)                0         \n",
      "                                                                 \n",
      " dense_2 (Dense)             (None, 1)                 33        \n",
      "                                                                 \n",
      "=================================================================\n",
      "Total params: 30,113\n",
      "Trainable params: 30,113\n",
      "Non-trainable params: 0\n",
      "_________________________________________________________________\n"
     ]
    }
   ],
   "source": [
    "model = Sequential()\n",
    "model.add(LSTM(64, activation='relu', input_shape=(trainX.shape[1], trainX.shape[2]), return_sequences=True))\n",
    "model.add(LSTM(32, activation='relu', return_sequences=False))\n",
    "model.add(Dropout(0.2))\n",
    "model.add(Dense(trainY.shape[1]))\n",
    "\n",
    "model.compile(optimizer='adam', loss='mse')\n",
    "model.summary()\n"
   ]
  },
  {
   "cell_type": "code",
   "execution_count": 53,
   "metadata": {},
   "outputs": [
    {
     "name": "stdout",
     "output_type": "stream",
     "text": [
      "Epoch 1/5\n",
      "214/214 [==============================] - 7s 17ms/step - loss: 0.0861 - val_loss: 0.2230\n",
      "Epoch 2/5\n",
      "214/214 [==============================] - 3s 15ms/step - loss: 0.0469 - val_loss: 0.2263\n",
      "Epoch 3/5\n",
      "214/214 [==============================] - 3s 16ms/step - loss: 0.0395 - val_loss: 1.0688\n",
      "Epoch 4/5\n",
      "214/214 [==============================] - 3s 15ms/step - loss: 0.0360 - val_loss: 0.1855\n",
      "Epoch 5/5\n",
      "214/214 [==============================] - 3s 16ms/step - loss: 0.0341 - val_loss: 0.1104\n"
     ]
    },
    {
     "data": {
      "text/plain": [
       "<matplotlib.legend.Legend at 0x2205af404c0>"
      ]
     },
     "execution_count": 53,
     "metadata": {},
     "output_type": "execute_result"
    },
    {
     "data": {
      "image/png": "[encoded data removed]",
      "text/plain": [
       "<Figure size 432x288 with 1 Axes>"
      ]
     },
     "metadata": {
      "needs_background": "light"
     },
     "output_type": "display_data"
    }
   ],
   "source": [
    "history = model.fit(trainX, trainY, epochs=5, batch_size=16, validation_split=0.1, verbose=1)\n",
    "\n",
    "plt.plot(history.history['loss'], label='Training loss')\n",
    "plt.plot(history.history['val_loss'], label='Validation loss')\n",
    "plt.legend()"
   ]
  },
  {
   "cell_type": "code",
   "execution_count": 99,
   "metadata": {},
   "outputs": [
    {
     "name": "stdout",
     "output_type": "stream",
     "text": [
      "[Timestamp('2022-05-17 00:00:00', freq='D'), Timestamp('2022-05-18 00:00:00', freq='D'), Timestamp('2022-05-19 00:00:00', freq='D'), Timestamp('2022-05-20 00:00:00', freq='D'), Timestamp('2022-05-21 00:00:00', freq='D'), Timestamp('2022-05-22 00:00:00', freq='D'), Timestamp('2022-05-23 00:00:00', freq='D'), Timestamp('2022-05-24 00:00:00', freq='D'), Timestamp('2022-05-25 00:00:00', freq='D'), Timestamp('2022-05-26 00:00:00', freq='D'), Timestamp('2022-05-27 00:00:00', freq='D'), Timestamp('2022-05-28 00:00:00', freq='D'), Timestamp('2022-05-29 00:00:00', freq='D'), Timestamp('2022-05-30 00:00:00', freq='D'), Timestamp('2022-05-31 00:00:00', freq='D')]\n"
     ]
    }
   ],
   "source": [
    "from pandas.tseries.holiday import USFederalHolidayCalendar\n",
    "from pandas.tseries.offsets import CustomBusinessDay\n",
    "us_bd = CustomBusinessDay(calendar=USFederalHolidayCalendar())\n",
    "#Remember that we can only predict one day in future as our model needs 5 variables\n",
    "#as inputs for prediction. We only have all 5 variables until the last day in our dataset.\n",
    "n_past = 15\n",
    "n_days_for_prediction=15  #let us predict past 15 days\n",
    "\n",
    "predict_period_dates = pd.date_range(list(train_dates)[-n_past], periods=n_days_for_prediction, freq='D').tolist()\n",
    "print(predict_period_dates)"
   ]
  },
  {
   "cell_type": "code",
   "execution_count": 105,
   "metadata": {},
   "outputs": [
    {
     "name": "stdout",
     "output_type": "stream",
     "text": [
      "1/1 [==============================] - 0s 43ms/step\n"
     ]
    }
   ],
   "source": [
    "\n",
    "#Make prediction\n",
    "prediction = model.predict(trainX[-n_days_for_prediction:]) #shape = (n, 1) where n is the n_days_for_prediction\n",
    "\n",
    "#Perform inverse transformation to rescale back to original range\n",
    "#Since we used 5 variables for transform, the inverse expects same dimensions\n",
    "#Therefore, let us copy our values 5 times and discard them after inverse transform\n",
    "prediction_copies = np.repeat(prediction, df_for_training.shape[1], axis=-1)\n",
    "y_pred_future = scaler.inverse_transform(prediction_copies)[:,2]\n",
    "\n",
    "\n",
    "# Convert timestamp to date\n",
    "forecast_dates = []\n",
    "for time_i in predict_period_dates:\n",
    "    forecast_dates.append(time_i.date())\n",
    "    \n",
    "df_forecast = pd.DataFrame({'VN Index_forecast':y_pred_future})\n",
    "df_forecast.index=pd.to_datetime(np.array(forecast_dates))\n",
    "\n",
    "\n",
    "df_true = df[['VN Index']]\n",
    "df_true = df_true.loc[df_true.index >= df_forecast.index.min() - timedelta(days=1)]\n",
    "\n",
    "# sns.lineplot(original.index, original['VN Index'])\n",
    "# sns.lineplot(df_forecast.index, df_forecast['VN Index'])\n"
   ]
  },
  {
   "cell_type": "code",
   "execution_count": 106,
   "metadata": {},
   "outputs": [
    {
     "data": {
      "image/png": "[encoded data removed]",
      "text/plain": [
       "<Figure size 1152x576 with 1 Axes>"
      ]
     },
     "metadata": {
      "needs_background": "light"
     },
     "output_type": "display_data"
    },
    {
     "data": {
      "text/plain": [
       "<Figure size 1440x720 with 0 Axes>"
      ]
     },
     "metadata": {},
     "output_type": "display_data"
    }
   ],
   "source": [
    "\n",
    "df_true['VN Index'].plot(legend=True)\n",
    "df_forecast['VN Index_forecast'].plot(legend=True)\n",
    "plt.figure(figsize=(20,10))\n",
    "plt.show()"
   ]
  },
  {
   "cell_type": "code",
   "execution_count": 102,
   "metadata": {},
   "outputs": [],
   "source": [
    "from statsmodels.tsa.stattools import acf\n",
    "def forecast_accuracy(forecast, actual):\n",
    "    mape = np.mean(np.abs(forecast - actual)/np.abs(actual))  # MAPE\n",
    "    me = np.mean(forecast - actual)             # ME\n",
    "    mae = np.mean(np.abs(forecast - actual))    # MAE\n",
    "    mpe = np.mean((forecast - actual)/actual)   # MPE\n",
    "    rmse = np.mean((forecast - actual)**2)**.5  # RMSE\n",
    "    corr = np.corrcoef(forecast, actual)[0,1]   # corr\n",
    "    mins = np.amin(np.hstack([forecast[:,None], \n",
    "                              actual[:,None]]), axis=1)\n",
    "    maxs = np.amax(np.hstack([forecast[:,None], \n",
    "                              actual[:,None]]), axis=1)\n",
    "    minmax = 1 - np.mean(mins/maxs)             # minmax\n",
    "    return({'mape':mape, 'me':me, 'mae': mae, \n",
    "            'mpe': mpe, 'rmse':rmse, 'corr':corr, 'minmax':minmax})\n",
    "\n"
   ]
  },
  {
   "cell_type": "code",
   "execution_count": 91,
   "metadata": {},
   "outputs": [],
   "source": [
    "def adjust(val, length= 6): return str(val).ljust(length)"
   ]
  },
  {
   "cell_type": "code",
   "execution_count": 103,
   "metadata": {},
   "outputs": [
    {
     "name": "stdout",
     "output_type": "stream",
     "text": [
      "\n",
      "Forecast Accuracy of: VN Index\n",
      "mape   :  0.0094\n",
      "me     :  -3.6595\n",
      "mae    :  11.7814\n",
      "mpe    :  -0.0028\n",
      "rmse   :  13.9358\n",
      "corr   :  0.8675\n",
      "minmax :  0.0094\n"
     ]
    },
    {
     "name": "stderr",
     "output_type": "stream",
     "text": [
      "C:\\Users\\ngthn\\AppData\\Local\\Temp\\ipykernel_17036\\2139281694.py:10: FutureWarning: Support for multi-dimensional indexing (e.g. `obj[:, None]`) is deprecated and will be removed in a future version.  Convert to a numpy array before indexing instead.\n",
      "  actual[:,None]]), axis=1)\n",
      "C:\\Users\\ngthn\\AppData\\Local\\Temp\\ipykernel_17036\\2139281694.py:12: FutureWarning: Support for multi-dimensional indexing (e.g. `obj[:, None]`) is deprecated and will be removed in a future version.  Convert to a numpy array before indexing instead.\n",
      "  actual[:,None]]), axis=1)\n"
     ]
    }
   ],
   "source": [
    "print('\\nForecast Accuracy of: VN Index')\n",
    "accuracy_prod = forecast_accuracy(df_forecast['VN Index_forecast'].values, df_true['VN Index'])\n",
    "for k, v in accuracy_prod.items():\n",
    "    print(adjust(k), ': ', round(v,4))\n"
   ]
  }
 ],
 "metadata": {
  "kernelspec": {
   "display_name": "Python 3.9.6 64-bit",
   "language": "python",
   "name": "python3"
  },
  "language_info": {
   "codemirror_mode": {
    "name": "ipython",
    "version": 3
   },
   "file_extension": ".py",
   "mimetype": "text/x-python",
   "name": "python",
   "nbconvert_exporter": "python",
   "pygments_lexer": "ipython3",
   "version": "3.9.6"
  },
  "orig_nbformat": 4,
  "vscode": {
   "interpreter": {
    "hash": "1eb71e714c2a1bbfc91d3a1ed02399b846367c62fca82a5b3a9325d7b60709de"
   }
  }
 },
 "nbformat": 4,
 "nbformat_minor": 2
}
