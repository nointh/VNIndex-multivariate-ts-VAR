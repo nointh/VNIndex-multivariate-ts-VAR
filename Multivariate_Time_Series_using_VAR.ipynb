{
  "cells": [
    {
      "cell_type": "markdown",
      "metadata": {
        "colab_type": "text",
        "id": "view-in-github"
      },
      "source": [
        "<a href=\"https://colab.research.google.com/github/srivatsan88/End-to-End-Time-Series/blob/master/Multivariate_Time_Series_using_VAR.ipynb\" target=\"_parent\"><img src=\"https://colab.research.google.com/assets/colab-badge.svg\" alt=\"Open In Colab\"/></a>"
      ]
    },
    {
      "cell_type": "code",
      "execution_count": 1,
      "metadata": {
        "colab": {
          "base_uri": "https://localhost:8080/"
        },
        "id": "A8edhGvXoqdT",
        "outputId": "b0262715-4541-4422-a385-0443ee19d8fa"
      },
      "outputs": [],
      "source": [
        "import pandas as pd\n",
        "import matplotlib as mpl\n",
        "import matplotlib.pyplot as plt\n",
        "\n",
        "import numpy as np\n",
        "\n",
        "from statsmodels.tsa.stattools import grangercausalitytests\n",
        "from statsmodels.tsa.stattools import adfuller\n",
        "import statsmodels.api as sm\n",
        "from statsmodels.tsa.api import VAR\n",
        "\n",
        "mpl.rcParams['figure.figsize'] = (10, 8)\n",
        "mpl.rcParams['axes.grid'] = False"
      ]
    },
    {
      "cell_type": "code",
      "execution_count": 2,
      "metadata": {
        "id": "ret6bTxmoxfj"
      },
      "outputs": [],
      "source": [
        "oil_price_df=pd.read_csv('Dữ liệu Lịch sử Hợp Đồng Tương Lai Dầu Thô WTI.csv', index_col=0, parse_dates=True)\n",
        "exchange_rate_df=pd.read_csv('Dữ liệu Lịch sử USD_VND.csv', index_col=0, parse_dates=True)\n",
        "gold_price_df=pd.read_csv('Dữ liệu Lịch sử Hợp đồng Tương lai Vàng.csv', index_col=0, parse_dates=True)\n",
        "stock_df=pd.read_csv('Dữ liệu Lịch sử VN Index.csv', index_col=0, parse_dates=True)"
      ]
    },
    {
      "cell_type": "code",
      "execution_count": 3,
      "metadata": {},
      "outputs": [
        {
          "data": {
            "text/plain": [
              "Lần cuối      3344\n",
              "Mở            3344\n",
              "Cao           3344\n",
              "Thấp          3344\n",
              "KL            3344\n",
              "% Thay đổi    3344\n",
              "dtype: int64"
            ]
          },
          "execution_count": 3,
          "metadata": {},
          "output_type": "execute_result"
        }
      ],
      "source": [
        "stock_df.count()"
      ]
    },
    {
      "cell_type": "code",
      "execution_count": 4,
      "metadata": {},
      "outputs": [
        {
          "data": {
            "text/html": [
              "<div>\n",
              "<style scoped>\n",
              "    .dataframe tbody tr th:only-of-type {\n",
              "        vertical-align: middle;\n",
              "    }\n",
              "\n",
              "    .dataframe tbody tr th {\n",
              "        vertical-align: top;\n",
              "    }\n",
              "\n",
              "    .dataframe thead th {\n",
              "        text-align: right;\n",
              "    }\n",
              "</style>\n",
              "<table border=\"1\" class=\"dataframe\">\n",
              "  <thead>\n",
              "    <tr style=\"text-align: right;\">\n",
              "      <th></th>\n",
              "      <th>Lần cuối</th>\n",
              "      <th>Mở</th>\n",
              "      <th>Cao</th>\n",
              "      <th>Thấp</th>\n",
              "      <th>KL</th>\n",
              "      <th>% Thay đổi</th>\n",
              "    </tr>\n",
              "    <tr>\n",
              "      <th>Ngày</th>\n",
              "      <th></th>\n",
              "      <th></th>\n",
              "      <th></th>\n",
              "      <th></th>\n",
              "      <th></th>\n",
              "      <th></th>\n",
              "    </tr>\n",
              "  </thead>\n",
              "  <tbody>\n",
              "    <tr>\n",
              "      <th>2009-02-01</th>\n",
              "      <td>46.34</td>\n",
              "      <td>43.72</td>\n",
              "      <td>46.74</td>\n",
              "      <td>41.05</td>\n",
              "      <td>184.68K</td>\n",
              "      <td>3.90%</td>\n",
              "    </tr>\n",
              "    <tr>\n",
              "      <th>2009-05-01</th>\n",
              "      <td>48.81</td>\n",
              "      <td>47.04</td>\n",
              "      <td>49.28</td>\n",
              "      <td>45.56</td>\n",
              "      <td>258.76K</td>\n",
              "      <td>5.33%</td>\n",
              "    </tr>\n",
              "    <tr>\n",
              "      <th>2009-06-01</th>\n",
              "      <td>48.58</td>\n",
              "      <td>48.40</td>\n",
              "      <td>50.47</td>\n",
              "      <td>47.60</td>\n",
              "      <td>331.31K</td>\n",
              "      <td>-0.47%</td>\n",
              "    </tr>\n",
              "    <tr>\n",
              "      <th>2009-07-01</th>\n",
              "      <td>42.63</td>\n",
              "      <td>48.41</td>\n",
              "      <td>49.09</td>\n",
              "      <td>42.41</td>\n",
              "      <td>306.26K</td>\n",
              "      <td>-12.25%</td>\n",
              "    </tr>\n",
              "    <tr>\n",
              "      <th>2009-08-01</th>\n",
              "      <td>41.70</td>\n",
              "      <td>42.63</td>\n",
              "      <td>43.63</td>\n",
              "      <td>40.54</td>\n",
              "      <td>312.49K</td>\n",
              "      <td>-2.18%</td>\n",
              "    </tr>\n",
              "  </tbody>\n",
              "</table>\n",
              "</div>"
            ],
            "text/plain": [
              "            Lần cuối     Mở    Cao   Thấp       KL % Thay đổi\n",
              "Ngày                                                         \n",
              "2009-02-01     46.34  43.72  46.74  41.05  184.68K      3.90%\n",
              "2009-05-01     48.81  47.04  49.28  45.56  258.76K      5.33%\n",
              "2009-06-01     48.58  48.40  50.47  47.60  331.31K     -0.47%\n",
              "2009-07-01     42.63  48.41  49.09  42.41  306.26K    -12.25%\n",
              "2009-08-01     41.70  42.63  43.63  40.54  312.49K     -2.18%"
            ]
          },
          "execution_count": 4,
          "metadata": {},
          "output_type": "execute_result"
        }
      ],
      "source": [
        "oil_price_df.head(5)"
      ]
    },
    {
      "cell_type": "code",
      "execution_count": 5,
      "metadata": {},
      "outputs": [
        {
          "data": {
            "text/html": [
              "<div>\n",
              "<style scoped>\n",
              "    .dataframe tbody tr th:only-of-type {\n",
              "        vertical-align: middle;\n",
              "    }\n",
              "\n",
              "    .dataframe tbody tr th {\n",
              "        vertical-align: top;\n",
              "    }\n",
              "\n",
              "    .dataframe thead th {\n",
              "        text-align: right;\n",
              "    }\n",
              "</style>\n",
              "<table border=\"1\" class=\"dataframe\">\n",
              "  <thead>\n",
              "    <tr style=\"text-align: right;\">\n",
              "      <th></th>\n",
              "      <th>Lần cuối</th>\n",
              "      <th>Mở</th>\n",
              "      <th>Cao</th>\n",
              "      <th>Thấp</th>\n",
              "      <th>% Thay đổi</th>\n",
              "    </tr>\n",
              "    <tr>\n",
              "      <th>Ngày</th>\n",
              "      <th></th>\n",
              "      <th></th>\n",
              "      <th></th>\n",
              "      <th></th>\n",
              "      <th></th>\n",
              "    </tr>\n",
              "  </thead>\n",
              "  <tbody>\n",
              "    <tr>\n",
              "      <th>2009-01-01</th>\n",
              "      <td>17,483.0</td>\n",
              "      <td>17,480.0</td>\n",
              "      <td>17,483.0</td>\n",
              "      <td>17,480.0</td>\n",
              "      <td>0.00%</td>\n",
              "    </tr>\n",
              "    <tr>\n",
              "      <th>2009-02-01</th>\n",
              "      <td>17,479.0</td>\n",
              "      <td>17,420.0</td>\n",
              "      <td>17,535.0</td>\n",
              "      <td>17,400.0</td>\n",
              "      <td>-0.02%</td>\n",
              "    </tr>\n",
              "    <tr>\n",
              "      <th>2009-05-01</th>\n",
              "      <td>17,472.0</td>\n",
              "      <td>17,480.0</td>\n",
              "      <td>17,540.0</td>\n",
              "      <td>17,400.0</td>\n",
              "      <td>-0.04%</td>\n",
              "    </tr>\n",
              "    <tr>\n",
              "      <th>2009-06-01</th>\n",
              "      <td>17,477.5</td>\n",
              "      <td>17,400.0</td>\n",
              "      <td>17,531.5</td>\n",
              "      <td>17,400.0</td>\n",
              "      <td>0.03%</td>\n",
              "    </tr>\n",
              "    <tr>\n",
              "      <th>2009-07-01</th>\n",
              "      <td>17,478.5</td>\n",
              "      <td>17,400.0</td>\n",
              "      <td>17,532.5</td>\n",
              "      <td>17,400.0</td>\n",
              "      <td>0.01%</td>\n",
              "    </tr>\n",
              "  </tbody>\n",
              "</table>\n",
              "</div>"
            ],
            "text/plain": [
              "            Lần cuối        Mở       Cao      Thấp % Thay đổi\n",
              "Ngày                                                         \n",
              "2009-01-01  17,483.0  17,480.0  17,483.0  17,480.0      0.00%\n",
              "2009-02-01  17,479.0  17,420.0  17,535.0  17,400.0     -0.02%\n",
              "2009-05-01  17,472.0  17,480.0  17,540.0  17,400.0     -0.04%\n",
              "2009-06-01  17,477.5  17,400.0  17,531.5  17,400.0      0.03%\n",
              "2009-07-01  17,478.5  17,400.0  17,532.5  17,400.0      0.01%"
            ]
          },
          "execution_count": 5,
          "metadata": {},
          "output_type": "execute_result"
        }
      ],
      "source": [
        "exchange_rate_df.head(5)"
      ]
    },
    {
      "cell_type": "code",
      "execution_count": 6,
      "metadata": {},
      "outputs": [
        {
          "data": {
            "text/html": [
              "<div>\n",
              "<style scoped>\n",
              "    .dataframe tbody tr th:only-of-type {\n",
              "        vertical-align: middle;\n",
              "    }\n",
              "\n",
              "    .dataframe tbody tr th {\n",
              "        vertical-align: top;\n",
              "    }\n",
              "\n",
              "    .dataframe thead th {\n",
              "        text-align: right;\n",
              "    }\n",
              "</style>\n",
              "<table border=\"1\" class=\"dataframe\">\n",
              "  <thead>\n",
              "    <tr style=\"text-align: right;\">\n",
              "      <th></th>\n",
              "      <th>Lần cuối</th>\n",
              "      <th>Mở</th>\n",
              "      <th>Cao</th>\n",
              "      <th>Thấp</th>\n",
              "      <th>KL</th>\n",
              "      <th>% Thay đổi</th>\n",
              "    </tr>\n",
              "    <tr>\n",
              "      <th>Ngày</th>\n",
              "      <th></th>\n",
              "      <th></th>\n",
              "      <th></th>\n",
              "      <th></th>\n",
              "      <th></th>\n",
              "      <th></th>\n",
              "    </tr>\n",
              "  </thead>\n",
              "  <tbody>\n",
              "    <tr>\n",
              "      <th>2022-05-31</th>\n",
              "      <td>1,848.40</td>\n",
              "      <td>1,856.50</td>\n",
              "      <td>1,867.90</td>\n",
              "      <td>1,837.60</td>\n",
              "      <td>201.80K</td>\n",
              "      <td>-0.38%</td>\n",
              "    </tr>\n",
              "    <tr>\n",
              "      <th>2022-05-30</th>\n",
              "      <td>1,855.40</td>\n",
              "      <td>1,847.79</td>\n",
              "      <td>1,862.10</td>\n",
              "      <td>1,846.54</td>\n",
              "      <td>-</td>\n",
              "      <td>0.42%</td>\n",
              "    </tr>\n",
              "    <tr>\n",
              "      <th>2022-05-29</th>\n",
              "      <td>1,847.65</td>\n",
              "      <td>1,850.55</td>\n",
              "      <td>1,851.76</td>\n",
              "      <td>1,845.90</td>\n",
              "      <td>-</td>\n",
              "      <td>-0.52%</td>\n",
              "    </tr>\n",
              "    <tr>\n",
              "      <th>2022-05-27</th>\n",
              "      <td>1,857.30</td>\n",
              "      <td>1,855.10</td>\n",
              "      <td>1,866.90</td>\n",
              "      <td>1,851.90</td>\n",
              "      <td>123.76K</td>\n",
              "      <td>0.18%</td>\n",
              "    </tr>\n",
              "    <tr>\n",
              "      <th>2022-05-26</th>\n",
              "      <td>1,853.90</td>\n",
              "      <td>1,857.90</td>\n",
              "      <td>1,859.00</td>\n",
              "      <td>1,842.50</td>\n",
              "      <td>92.09K</td>\n",
              "      <td>0.08%</td>\n",
              "    </tr>\n",
              "  </tbody>\n",
              "</table>\n",
              "</div>"
            ],
            "text/plain": [
              "            Lần cuối        Mở       Cao      Thấp       KL % Thay đổi\n",
              "Ngày                                                                  \n",
              "2022-05-31  1,848.40  1,856.50  1,867.90  1,837.60  201.80K     -0.38%\n",
              "2022-05-30  1,855.40  1,847.79  1,862.10  1,846.54        -      0.42%\n",
              "2022-05-29  1,847.65  1,850.55  1,851.76  1,845.90        -     -0.52%\n",
              "2022-05-27  1,857.30  1,855.10  1,866.90  1,851.90  123.76K      0.18%\n",
              "2022-05-26  1,853.90  1,857.90  1,859.00  1,842.50   92.09K      0.08%"
            ]
          },
          "execution_count": 6,
          "metadata": {},
          "output_type": "execute_result"
        }
      ],
      "source": [
        "gold_price_df.head(5)"
      ]
    },
    {
      "cell_type": "code",
      "execution_count": 7,
      "metadata": {},
      "outputs": [
        {
          "data": {
            "text/html": [
              "<div>\n",
              "<style scoped>\n",
              "    .dataframe tbody tr th:only-of-type {\n",
              "        vertical-align: middle;\n",
              "    }\n",
              "\n",
              "    .dataframe tbody tr th {\n",
              "        vertical-align: top;\n",
              "    }\n",
              "\n",
              "    .dataframe thead th {\n",
              "        text-align: right;\n",
              "    }\n",
              "</style>\n",
              "<table border=\"1\" class=\"dataframe\">\n",
              "  <thead>\n",
              "    <tr style=\"text-align: right;\">\n",
              "      <th></th>\n",
              "      <th>Lần cuối</th>\n",
              "      <th>Mở</th>\n",
              "      <th>Cao</th>\n",
              "      <th>Thấp</th>\n",
              "      <th>KL</th>\n",
              "      <th>% Thay đổi</th>\n",
              "    </tr>\n",
              "    <tr>\n",
              "      <th>Ngày</th>\n",
              "      <th></th>\n",
              "      <th></th>\n",
              "      <th></th>\n",
              "      <th></th>\n",
              "      <th></th>\n",
              "      <th></th>\n",
              "    </tr>\n",
              "  </thead>\n",
              "  <tbody>\n",
              "    <tr>\n",
              "      <th>2009-02-01</th>\n",
              "      <td>313.34</td>\n",
              "      <td>312.49</td>\n",
              "      <td>313.34</td>\n",
              "      <td>312.18</td>\n",
              "      <td>5.63K</td>\n",
              "      <td>-0.72%</td>\n",
              "    </tr>\n",
              "    <tr>\n",
              "      <th>2009-05-01</th>\n",
              "      <td>311.91</td>\n",
              "      <td>308.77</td>\n",
              "      <td>311.91</td>\n",
              "      <td>308.25</td>\n",
              "      <td>7.92K</td>\n",
              "      <td>-0.46%</td>\n",
              "    </tr>\n",
              "    <tr>\n",
              "      <th>2009-06-01</th>\n",
              "      <td>314.04</td>\n",
              "      <td>312.91</td>\n",
              "      <td>315.02</td>\n",
              "      <td>312.88</td>\n",
              "      <td>12.97K</td>\n",
              "      <td>0.68%</td>\n",
              "    </tr>\n",
              "    <tr>\n",
              "      <th>2009-07-01</th>\n",
              "      <td>319.58</td>\n",
              "      <td>320.40</td>\n",
              "      <td>322.59</td>\n",
              "      <td>319.29</td>\n",
              "      <td>14.75K</td>\n",
              "      <td>1.76%</td>\n",
              "    </tr>\n",
              "    <tr>\n",
              "      <th>2009-08-01</th>\n",
              "      <td>314.15</td>\n",
              "      <td>315.92</td>\n",
              "      <td>318.79</td>\n",
              "      <td>313.04</td>\n",
              "      <td>14.94K</td>\n",
              "      <td>-1.70%</td>\n",
              "    </tr>\n",
              "  </tbody>\n",
              "</table>\n",
              "</div>"
            ],
            "text/plain": [
              "           Lần cuối      Mở     Cao    Thấp      KL % Thay đổi\n",
              "Ngày                                                          \n",
              "2009-02-01   313.34  312.49  313.34  312.18   5.63K     -0.72%\n",
              "2009-05-01   311.91  308.77  311.91  308.25   7.92K     -0.46%\n",
              "2009-06-01   314.04  312.91  315.02  312.88  12.97K      0.68%\n",
              "2009-07-01   319.58  320.40  322.59  319.29  14.75K      1.76%\n",
              "2009-08-01   314.15  315.92  318.79  313.04  14.94K     -1.70%"
            ]
          },
          "execution_count": 7,
          "metadata": {},
          "output_type": "execute_result"
        }
      ],
      "source": [
        "stock_df.head(5)"
      ]
    },
    {
      "cell_type": "code",
      "execution_count": 8,
      "metadata": {},
      "outputs": [
        {
          "data": {
            "text/html": [
              "<div>\n",
              "<style scoped>\n",
              "    .dataframe tbody tr th:only-of-type {\n",
              "        vertical-align: middle;\n",
              "    }\n",
              "\n",
              "    .dataframe tbody tr th {\n",
              "        vertical-align: top;\n",
              "    }\n",
              "\n",
              "    .dataframe thead th {\n",
              "        text-align: right;\n",
              "    }\n",
              "</style>\n",
              "<table border=\"1\" class=\"dataframe\">\n",
              "  <thead>\n",
              "    <tr style=\"text-align: right;\">\n",
              "      <th></th>\n",
              "      <th>Lần cuối</th>\n",
              "    </tr>\n",
              "    <tr>\n",
              "      <th>Ngày</th>\n",
              "      <th></th>\n",
              "    </tr>\n",
              "  </thead>\n",
              "  <tbody>\n",
              "    <tr>\n",
              "      <th>2009-01-01</th>\n",
              "      <td>17,483.0</td>\n",
              "    </tr>\n",
              "    <tr>\n",
              "      <th>2009-02-01</th>\n",
              "      <td>17,479.0</td>\n",
              "    </tr>\n",
              "    <tr>\n",
              "      <th>2009-05-01</th>\n",
              "      <td>17,472.0</td>\n",
              "    </tr>\n",
              "    <tr>\n",
              "      <th>2009-06-01</th>\n",
              "      <td>17,477.5</td>\n",
              "    </tr>\n",
              "    <tr>\n",
              "      <th>2009-07-01</th>\n",
              "      <td>17,478.5</td>\n",
              "    </tr>\n",
              "    <tr>\n",
              "      <th>...</th>\n",
              "      <td>...</td>\n",
              "    </tr>\n",
              "    <tr>\n",
              "      <th>2022-05-25</th>\n",
              "      <td>23,190.0</td>\n",
              "    </tr>\n",
              "    <tr>\n",
              "      <th>2022-05-26</th>\n",
              "      <td>23,205.0</td>\n",
              "    </tr>\n",
              "    <tr>\n",
              "      <th>2022-05-27</th>\n",
              "      <td>23,195.0</td>\n",
              "    </tr>\n",
              "    <tr>\n",
              "      <th>2022-05-30</th>\n",
              "      <td>23,176.0</td>\n",
              "    </tr>\n",
              "    <tr>\n",
              "      <th>2022-05-31</th>\n",
              "      <td>23,185.0</td>\n",
              "    </tr>\n",
              "  </tbody>\n",
              "</table>\n",
              "<p>3476 rows × 1 columns</p>\n",
              "</div>"
            ],
            "text/plain": [
              "            Lần cuối\n",
              "Ngày                \n",
              "2009-01-01  17,483.0\n",
              "2009-02-01  17,479.0\n",
              "2009-05-01  17,472.0\n",
              "2009-06-01  17,477.5\n",
              "2009-07-01  17,478.5\n",
              "...              ...\n",
              "2022-05-25  23,190.0\n",
              "2022-05-26  23,205.0\n",
              "2022-05-27  23,195.0\n",
              "2022-05-30  23,176.0\n",
              "2022-05-31  23,185.0\n",
              "\n",
              "[3476 rows x 1 columns]"
            ]
          },
          "execution_count": 8,
          "metadata": {},
          "output_type": "execute_result"
        }
      ],
      "source": [
        "exchange_rate_df[['Lần cuối']]"
      ]
    },
    {
      "cell_type": "code",
      "execution_count": 9,
      "metadata": {},
      "outputs": [
        {
          "name": "stderr",
          "output_type": "stream",
          "text": [
            "d:\\Python\\Python39\\lib\\site-packages\\pandas\\core\\frame.py:5034: SettingWithCopyWarning: \n",
            "A value is trying to be set on a copy of a slice from a DataFrame\n",
            "\n",
            "See the caveats in the documentation: https://pandas.pydata.org/pandas-docs/stable/user_guide/indexing.html#returning-a-view-versus-a-copy\n",
            "  return super().rename(\n"
          ]
        }
      ],
      "source": [
        "df_arr = [exchange_rate_df, oil_price_df, gold_price_df, stock_df]\n",
        "df_name = ['Exchange Rate', 'Oil price', 'Gold price', 'Stock']\n",
        "df = exchange_rate_df[['Lần cuối']]\n",
        "df.rename(columns={'Lần cuối': df_name[0]}, inplace=True)\n",
        "for index in range(1, 4, 1):\n",
        "    dataframe = df_arr[index]\n",
        "    # df.join(dataframe, how='outer')\n",
        "    df = pd.concat([df, dataframe[['Lần cuối']]], axis=1)\n",
        "    df.rename(columns={'Lần cuối': df_name[index]}, inplace=True)"
      ]
    },
    {
      "cell_type": "code",
      "execution_count": 10,
      "metadata": {},
      "outputs": [
        {
          "data": {
            "text/html": [
              "<div>\n",
              "<style scoped>\n",
              "    .dataframe tbody tr th:only-of-type {\n",
              "        vertical-align: middle;\n",
              "    }\n",
              "\n",
              "    .dataframe tbody tr th {\n",
              "        vertical-align: top;\n",
              "    }\n",
              "\n",
              "    .dataframe thead th {\n",
              "        text-align: right;\n",
              "    }\n",
              "</style>\n",
              "<table border=\"1\" class=\"dataframe\">\n",
              "  <thead>\n",
              "    <tr style=\"text-align: right;\">\n",
              "      <th></th>\n",
              "      <th>Exchange Rate</th>\n",
              "      <th>Oil price</th>\n",
              "      <th>Gold price</th>\n",
              "      <th>Stock</th>\n",
              "    </tr>\n",
              "    <tr>\n",
              "      <th>Ngày</th>\n",
              "      <th></th>\n",
              "      <th></th>\n",
              "      <th></th>\n",
              "      <th></th>\n",
              "    </tr>\n",
              "  </thead>\n",
              "  <tbody>\n",
              "    <tr>\n",
              "      <th>2009-01-01</th>\n",
              "      <td>17,483.0</td>\n",
              "      <td>NaN</td>\n",
              "      <td>NaN</td>\n",
              "      <td>NaN</td>\n",
              "    </tr>\n",
              "    <tr>\n",
              "      <th>2009-01-04</th>\n",
              "      <td>17,755.0</td>\n",
              "      <td>48.39</td>\n",
              "      <td>926.10</td>\n",
              "      <td>289.52</td>\n",
              "    </tr>\n",
              "    <tr>\n",
              "      <th>2009-01-05</th>\n",
              "      <td>17,781.5</td>\n",
              "      <td>53.20</td>\n",
              "      <td>887.60</td>\n",
              "      <td>NaN</td>\n",
              "    </tr>\n",
              "    <tr>\n",
              "      <th>2009-01-06</th>\n",
              "      <td>17,778.5</td>\n",
              "      <td>68.58</td>\n",
              "      <td>978.60</td>\n",
              "      <td>426.43</td>\n",
              "    </tr>\n",
              "    <tr>\n",
              "      <th>2009-01-07</th>\n",
              "      <td>17,801.0</td>\n",
              "      <td>69.31</td>\n",
              "      <td>941.00</td>\n",
              "      <td>430.00</td>\n",
              "    </tr>\n",
              "    <tr>\n",
              "      <th>...</th>\n",
              "      <td>...</td>\n",
              "      <td>...</td>\n",
              "      <td>...</td>\n",
              "      <td>...</td>\n",
              "    </tr>\n",
              "    <tr>\n",
              "      <th>2022-11-04</th>\n",
              "      <td>NaN</td>\n",
              "      <td>94.29</td>\n",
              "      <td>1,955.00</td>\n",
              "      <td>NaN</td>\n",
              "    </tr>\n",
              "    <tr>\n",
              "      <th>2022-11-05</th>\n",
              "      <td>23,050.0</td>\n",
              "      <td>105.71</td>\n",
              "      <td>1,861.00</td>\n",
              "      <td>1,301.53</td>\n",
              "    </tr>\n",
              "    <tr>\n",
              "      <th>2022-12-01</th>\n",
              "      <td>22,698.0</td>\n",
              "      <td>82.64</td>\n",
              "      <td>1,833.70</td>\n",
              "      <td>1,510.51</td>\n",
              "    </tr>\n",
              "    <tr>\n",
              "      <th>2022-12-04</th>\n",
              "      <td>22,888.0</td>\n",
              "      <td>100.60</td>\n",
              "      <td>1,983.00</td>\n",
              "      <td>1,455.25</td>\n",
              "    </tr>\n",
              "    <tr>\n",
              "      <th>2022-12-05</th>\n",
              "      <td>23,096.0</td>\n",
              "      <td>106.13</td>\n",
              "      <td>1,831.60</td>\n",
              "      <td>1,238.84</td>\n",
              "    </tr>\n",
              "  </tbody>\n",
              "</table>\n",
              "<p>3535 rows × 4 columns</p>\n",
              "</div>"
            ],
            "text/plain": [
              "           Exchange Rate  Oil price Gold price     Stock\n",
              "Ngày                                                    \n",
              "2009-01-01      17,483.0        NaN        NaN       NaN\n",
              "2009-01-04      17,755.0      48.39     926.10    289.52\n",
              "2009-01-05      17,781.5      53.20     887.60       NaN\n",
              "2009-01-06      17,778.5      68.58     978.60    426.43\n",
              "2009-01-07      17,801.0      69.31     941.00    430.00\n",
              "...                  ...        ...        ...       ...\n",
              "2022-11-04           NaN      94.29   1,955.00       NaN\n",
              "2022-11-05      23,050.0     105.71   1,861.00  1,301.53\n",
              "2022-12-01      22,698.0      82.64   1,833.70  1,510.51\n",
              "2022-12-04      22,888.0     100.60   1,983.00  1,455.25\n",
              "2022-12-05      23,096.0     106.13   1,831.60  1,238.84\n",
              "\n",
              "[3535 rows x 4 columns]"
            ]
          },
          "execution_count": 10,
          "metadata": {},
          "output_type": "execute_result"
        }
      ],
      "source": [
        "df"
      ]
    },
    {
      "cell_type": "code",
      "execution_count": 11,
      "metadata": {},
      "outputs": [
        {
          "data": {
            "text/plain": [
              "Exchange Rate     59\n",
              "Oil price         56\n",
              "Gold price        48\n",
              "Stock            191\n",
              "dtype: int64"
            ]
          },
          "execution_count": 11,
          "metadata": {},
          "output_type": "execute_result"
        }
      ],
      "source": [
        "df.isna().sum()"
      ]
    },
    {
      "cell_type": "code",
      "execution_count": 12,
      "metadata": {},
      "outputs": [],
      "source": [
        "df.dropna(inplace=True)"
      ]
    },
    {
      "cell_type": "code",
      "execution_count": 13,
      "metadata": {},
      "outputs": [
        {
          "data": {
            "text/plain": [
              "3299"
            ]
          },
          "execution_count": 13,
          "metadata": {},
          "output_type": "execute_result"
        }
      ],
      "source": [
        "len(df.dropna())"
      ]
    },
    {
      "cell_type": "code",
      "execution_count": 14,
      "metadata": {},
      "outputs": [
        {
          "data": {
            "text/plain": [
              "Exchange Rate    0\n",
              "Oil price        0\n",
              "Gold price       0\n",
              "Stock            0\n",
              "dtype: int64"
            ]
          },
          "execution_count": 14,
          "metadata": {},
          "output_type": "execute_result"
        }
      ],
      "source": [
        "df.isna().sum()"
      ]
    },
    {
      "cell_type": "code",
      "execution_count": 15,
      "metadata": {},
      "outputs": [],
      "source": [
        "df = df.replace(',','', regex=True)\n",
        "\n",
        "df = df.replace('%','', regex=True)\n"
      ]
    },
    {
      "cell_type": "code",
      "execution_count": 16,
      "metadata": {},
      "outputs": [
        {
          "data": {
            "text/plain": [
              "Index(['Exchange Rate', 'Oil price', 'Gold price', 'Stock'], dtype='object')"
            ]
          },
          "execution_count": 16,
          "metadata": {},
          "output_type": "execute_result"
        }
      ],
      "source": [
        "df.columns"
      ]
    },
    {
      "cell_type": "code",
      "execution_count": 17,
      "metadata": {},
      "outputs": [],
      "source": [
        "for col in df.columns:\n",
        "    df[col] = df[col].astype(np.float32)"
      ]
    },
    {
      "cell_type": "code",
      "execution_count": 18,
      "metadata": {},
      "outputs": [
        {
          "data": {
            "text/html": [
              "<div>\n",
              "<style scoped>\n",
              "    .dataframe tbody tr th:only-of-type {\n",
              "        vertical-align: middle;\n",
              "    }\n",
              "\n",
              "    .dataframe tbody tr th {\n",
              "        vertical-align: top;\n",
              "    }\n",
              "\n",
              "    .dataframe thead th {\n",
              "        text-align: right;\n",
              "    }\n",
              "</style>\n",
              "<table border=\"1\" class=\"dataframe\">\n",
              "  <thead>\n",
              "    <tr style=\"text-align: right;\">\n",
              "      <th></th>\n",
              "      <th>Exchange Rate</th>\n",
              "      <th>Oil price</th>\n",
              "      <th>Gold price</th>\n",
              "      <th>Stock</th>\n",
              "    </tr>\n",
              "    <tr>\n",
              "      <th>Ngày</th>\n",
              "      <th></th>\n",
              "      <th></th>\n",
              "      <th></th>\n",
              "      <th></th>\n",
              "    </tr>\n",
              "  </thead>\n",
              "  <tbody>\n",
              "    <tr>\n",
              "      <th>2009-01-04</th>\n",
              "      <td>17755.0</td>\n",
              "      <td>48.389999</td>\n",
              "      <td>926.099976</td>\n",
              "      <td>289.519989</td>\n",
              "    </tr>\n",
              "    <tr>\n",
              "      <th>2009-01-06</th>\n",
              "      <td>17778.5</td>\n",
              "      <td>68.580002</td>\n",
              "      <td>978.599976</td>\n",
              "      <td>426.429993</td>\n",
              "    </tr>\n",
              "    <tr>\n",
              "      <th>2009-01-07</th>\n",
              "      <td>17801.0</td>\n",
              "      <td>69.309998</td>\n",
              "      <td>941.000000</td>\n",
              "      <td>430.000000</td>\n",
              "    </tr>\n",
              "    <tr>\n",
              "      <th>2009-01-09</th>\n",
              "      <td>17820.0</td>\n",
              "      <td>68.050003</td>\n",
              "      <td>954.700012</td>\n",
              "      <td>547.690002</td>\n",
              "    </tr>\n",
              "    <tr>\n",
              "      <th>2009-01-10</th>\n",
              "      <td>17837.0</td>\n",
              "      <td>70.820000</td>\n",
              "      <td>999.500000</td>\n",
              "      <td>568.989990</td>\n",
              "    </tr>\n",
              "    <tr>\n",
              "      <th>...</th>\n",
              "      <td>...</td>\n",
              "      <td>...</td>\n",
              "      <td>...</td>\n",
              "      <td>...</td>\n",
              "    </tr>\n",
              "    <tr>\n",
              "      <th>2022-11-03</th>\n",
              "      <td>22873.0</td>\n",
              "      <td>109.330002</td>\n",
              "      <td>1993.099976</td>\n",
              "      <td>1466.540039</td>\n",
              "    </tr>\n",
              "    <tr>\n",
              "      <th>2022-11-05</th>\n",
              "      <td>23050.0</td>\n",
              "      <td>105.709999</td>\n",
              "      <td>1861.000000</td>\n",
              "      <td>1301.530029</td>\n",
              "    </tr>\n",
              "    <tr>\n",
              "      <th>2022-12-01</th>\n",
              "      <td>22698.0</td>\n",
              "      <td>82.639999</td>\n",
              "      <td>1833.699951</td>\n",
              "      <td>1510.510010</td>\n",
              "    </tr>\n",
              "    <tr>\n",
              "      <th>2022-12-04</th>\n",
              "      <td>22888.0</td>\n",
              "      <td>100.599998</td>\n",
              "      <td>1983.000000</td>\n",
              "      <td>1455.250000</td>\n",
              "    </tr>\n",
              "    <tr>\n",
              "      <th>2022-12-05</th>\n",
              "      <td>23096.0</td>\n",
              "      <td>106.129997</td>\n",
              "      <td>1831.599976</td>\n",
              "      <td>1238.839966</td>\n",
              "    </tr>\n",
              "  </tbody>\n",
              "</table>\n",
              "<p>3299 rows × 4 columns</p>\n",
              "</div>"
            ],
            "text/plain": [
              "            Exchange Rate   Oil price   Gold price        Stock\n",
              "Ngày                                                           \n",
              "2009-01-04        17755.0   48.389999   926.099976   289.519989\n",
              "2009-01-06        17778.5   68.580002   978.599976   426.429993\n",
              "2009-01-07        17801.0   69.309998   941.000000   430.000000\n",
              "2009-01-09        17820.0   68.050003   954.700012   547.690002\n",
              "2009-01-10        17837.0   70.820000   999.500000   568.989990\n",
              "...                   ...         ...          ...          ...\n",
              "2022-11-03        22873.0  109.330002  1993.099976  1466.540039\n",
              "2022-11-05        23050.0  105.709999  1861.000000  1301.530029\n",
              "2022-12-01        22698.0   82.639999  1833.699951  1510.510010\n",
              "2022-12-04        22888.0  100.599998  1983.000000  1455.250000\n",
              "2022-12-05        23096.0  106.129997  1831.599976  1238.839966\n",
              "\n",
              "[3299 rows x 4 columns]"
            ]
          },
          "execution_count": 18,
          "metadata": {},
          "output_type": "execute_result"
        }
      ],
      "source": [
        "df"
      ]
    },
    {
      "cell_type": "code",
      "execution_count": 19,
      "metadata": {},
      "outputs": [],
      "source": [
        "ds = df[df.index > '2021-01-01']"
      ]
    },
    {
      "cell_type": "code",
      "execution_count": 20,
      "metadata": {
        "id": "QtWFWPwbJuUu"
      },
      "outputs": [],
      "source": [
        "# df=df.resample('1H').mean()"
      ]
    },
    {
      "cell_type": "code",
      "execution_count": 21,
      "metadata": {
        "colab": {
          "base_uri": "https://localhost:8080/",
          "height": 1000
        },
        "id": "c-KGo1_3YsVd",
        "outputId": "c740c93e-4d4b-4d66-ec58-8efa27932aac"
      },
      "outputs": [
        {
          "data": {
            "image/png": "[encoded data removed]",
            "text/plain": [
              "<Figure size 1120x640 with 4 Axes>"
            ]
          },
          "metadata": {},
          "output_type": "display_data"
        }
      ],
      "source": [
        "color_list = [\n",
        "    \"blue\",\n",
        "    \"orange\",\n",
        "    \"green\",\n",
        "    \"red\",\n",
        "    \"purple\",\n",
        "    \"brown\",\n",
        "    \"pink\",\n",
        "    \"gray\",\n",
        "    \"olive\",\n",
        "    \"cyan\",\n",
        "]\n",
        "\n",
        "\n",
        "def Visualize(data):\n",
        "    features= list(df.select_dtypes(include=[np.number]).columns.values)\n",
        "    feature_size=len(features)\n",
        "    fig, axes = plt.subplots(\n",
        "        nrows=int(np.ceil(feature_size/2)), ncols=2, figsize=(14, feature_size*2), dpi=80, facecolor=\"w\", edgecolor=\"k\"\n",
        "    )\n",
        "    # print('feature size ', feature_size)\n",
        "    for i in range(feature_size):\n",
        "        key = features[i]\n",
        "        c = color_list[i % (len(color_list))]\n",
        "        t_data = data[key]\n",
        "        t_data.head()\n",
        "        # print(i//2, i%2)\n",
        "        ax = t_data.plot(\n",
        "            ax=axes[i // 2, i % 2],\n",
        "            color=c,\n",
        "            title=\"{}\".format(key),\n",
        "            rot=25,\n",
        "        )\n",
        "        ax.legend([key])\n",
        "    plt.tight_layout()\n",
        "\n",
        "\n",
        "Visualize(df)"
      ]
    },
    {
      "cell_type": "markdown",
      "metadata": {
        "id": "gU3OKJn6SodQ"
      },
      "source": [
        "Null Hypothesis - Series possesses a unit root and hence is not stationary\n",
        "\n",
        "Alternate Hypothesis - Series is stationary"
      ]
    },
    {
      "cell_type": "code",
      "execution_count": 22,
      "metadata": {
        "colab": {
          "base_uri": "https://localhost:8080/"
        },
        "id": "sUsrIiCfOKty",
        "outputId": "c9e09c40-887d-4a32-c9ba-e192d1d06fdd"
      },
      "outputs": [
        {
          "name": "stdout",
          "output_type": "stream",
          "text": [
            "Exchange Rate - Series is Stationary\n",
            "Oil price - Series is not Stationary\n",
            "Gold price - Series is not Stationary\n",
            "Stock - Series is not Stationary\n"
          ]
        }
      ],
      "source": [
        "for i in range(len(df.columns)):\n",
        "  result = adfuller(df[df.columns[i]])\n",
        "\n",
        "  if result[1] > 0.05 :\n",
        "    print('{} - Series is not Stationary'.format(df.columns[i]))\n",
        "  else:\n",
        "    print('{} - Series is Stationary'.format(df.columns[i]))"
      ]
    },
    {
      "cell_type": "code",
      "execution_count": 23,
      "metadata": {},
      "outputs": [],
      "source": [
        "df['Exch_rate_1_diff'] = df['Exchange Rate'] - df['Exchange Rate'].shift(1)\n",
        "df.dropna(inplace=True)"
      ]
    },
    {
      "cell_type": "code",
      "execution_count": 24,
      "metadata": {},
      "outputs": [],
      "source": [
        "df['Oil_1_diff'] = df['Oil price'] - df['Oil price'].shift(1)\n",
        "df.dropna(inplace=True)"
      ]
    },
    {
      "cell_type": "code",
      "execution_count": 25,
      "metadata": {},
      "outputs": [],
      "source": [
        "df['Gold_1_diff'] = df['Gold price'] - df['Gold price'].shift(1)\n",
        "df.dropna(inplace=True)"
      ]
    },
    {
      "cell_type": "code",
      "execution_count": 26,
      "metadata": {},
      "outputs": [],
      "source": [
        "df['Stock_1_diff'] = df['Stock'] - df['Stock'].shift(1)\n",
        "df.dropna(inplace=True)"
      ]
    },
    {
      "cell_type": "code",
      "execution_count": 27,
      "metadata": {},
      "outputs": [
        {
          "name": "stdout",
          "output_type": "stream",
          "text": [
            "Exchange Rate - Series is Stationary\n",
            "Oil price - Series is not Stationary\n",
            "Gold price - Series is not Stationary\n",
            "Stock - Series is not Stationary\n",
            "Exch_rate_1_diff - Series is Stationary\n",
            "Oil_1_diff - Series is Stationary\n",
            "Gold_1_diff - Series is Stationary\n",
            "Stock_1_diff - Series is Stationary\n"
          ]
        }
      ],
      "source": [
        "for i in range(len(df.columns)):\n",
        "  result = adfuller(df[df.columns[i]])\n",
        "\n",
        "  if result[1] > 0.05 :\n",
        "    print('{} - Series is not Stationary'.format(df.columns[i]))\n",
        "  else:\n",
        "    print('{} - Series is Stationary'.format(df.columns[i]))"
      ]
    },
    {
      "cell_type": "code",
      "execution_count": 28,
      "metadata": {},
      "outputs": [
        {
          "data": {
            "image/png": "[encoded data removed]",
            "text/plain": [
              "<Figure size 1120x1280 with 8 Axes>"
            ]
          },
          "metadata": {},
          "output_type": "display_data"
        }
      ],
      "source": [
        "Visualize(df)"
      ]
    },
    {
      "cell_type": "markdown",
      "metadata": {
        "id": "UkaMJYpO1TNO"
      },
      "source": [
        " H0: Xt does not granger causes Yt\n",
        " \n",
        " H1: Xt granger causes Yt"
      ]
    },
    {
      "cell_type": "code",
      "execution_count": 30,
      "metadata": {
        "id": "1GC9090oFc-l"
      },
      "outputs": [],
      "source": [
        "max_lags=8\n",
        "y='Stock_1_diff'"
      ]
    },
    {
      "cell_type": "code",
      "execution_count": 44,
      "metadata": {},
      "outputs": [],
      "source": [
        "# grangercausalitytests(df[[y,'Gold_1_diff']], max_lags, verbose=False)"
      ]
    },
    {
      "cell_type": "code",
      "execution_count": 31,
      "metadata": {},
      "outputs": [
        {
          "data": {
            "text/plain": [
              "Index(['Exchange Rate', 'Oil price', 'Gold price', 'Stock', 'Exch_rate_1_diff',\n",
              "       'Oil_1_diff', 'Gold_1_diff', 'Stock_1_diff'],\n",
              "      dtype='object')"
            ]
          },
          "execution_count": 31,
          "metadata": {},
          "output_type": "execute_result"
        }
      ],
      "source": [
        "df.columns"
      ]
    },
    {
      "cell_type": "code",
      "execution_count": 29,
      "metadata": {},
      "outputs": [],
      "source": [
        "# results = grangercausalitytests(df[[y,'Oil_1_diff']], max_lags, verbose=False)\n",
        "# results['Oil price'][0]['ssr_ftest'][1]"
      ]
    },
    {
      "cell_type": "code",
      "execution_count": 33,
      "metadata": {
        "colab": {
          "base_uri": "https://localhost:8080/"
        },
        "id": "0v246-Mi67d_",
        "outputId": "988c76d8-da28-4eb4-a921-a12a24314f90"
      },
      "outputs": [
        {
          "name": "stdout",
          "output_type": "stream",
          "text": [
            "Column - Exch_rate_1_diff : P_Values - [0.3769, 0.337, 0.4547, 0.6977, 0.7345, 0.8086, 0.9232, 0.9647]\n",
            "Column - Oil_1_diff : P_Values - [0.0721, 0.0266, 0.0003, 0.0009, 0.0009, 0.0006, 0.0002, 0.0004]\n",
            "Column - Gold_1_diff : P_Values - [0.0325, 0.0001, 0.0001, 0.0003, 0.002, 0.0045, 0.0112, 0.0193]\n",
            "Column - Stock_1_diff : P_Values - [1.0, 1.0, 1.0, 1.0, 1.0, 1.0, 1.0, 1.0]\n"
          ]
        }
      ],
      "source": [
        "for i in range(4,len(df.columns)):\n",
        "  results=grangercausalitytests(df[[y,df.columns[i]]], max_lags, verbose=False)\n",
        "  p_values=[round(results[i+1][0]['ssr_ftest'][1],4) for i in range(max_lags)]\n",
        "  print('Column - {} : P_Values - {}'.format(df.columns[i],p_values))"
      ]
    },
    {
      "cell_type": "code",
      "execution_count": 37,
      "metadata": {
        "id": "ccsOCsmY_lJh"
      },
      "outputs": [],
      "source": [
        "df_input=df[['Stock_1_diff','Gold_1_diff','Oil_1_diff']]"
      ]
    },
    {
      "cell_type": "code",
      "execution_count": 38,
      "metadata": {
        "colab": {
          "base_uri": "https://localhost:8080/",
          "height": 447
        },
        "id": "mM64CwUk_lCB",
        "outputId": "a6d4c1cb-10f3-45c7-eb7d-bfc47c4e543c"
      },
      "outputs": [
        {
          "data": {
            "text/html": [
              "<div>\n",
              "<style scoped>\n",
              "    .dataframe tbody tr th:only-of-type {\n",
              "        vertical-align: middle;\n",
              "    }\n",
              "\n",
              "    .dataframe tbody tr th {\n",
              "        vertical-align: top;\n",
              "    }\n",
              "\n",
              "    .dataframe thead th {\n",
              "        text-align: right;\n",
              "    }\n",
              "</style>\n",
              "<table border=\"1\" class=\"dataframe\">\n",
              "  <thead>\n",
              "    <tr style=\"text-align: right;\">\n",
              "      <th></th>\n",
              "      <th>Stock_1_diff</th>\n",
              "      <th>Gold_1_diff</th>\n",
              "      <th>Oil_1_diff</th>\n",
              "    </tr>\n",
              "    <tr>\n",
              "      <th>Ngày</th>\n",
              "      <th></th>\n",
              "      <th></th>\n",
              "      <th></th>\n",
              "    </tr>\n",
              "  </thead>\n",
              "  <tbody>\n",
              "    <tr>\n",
              "      <th>2009-01-10</th>\n",
              "      <td>21.299988</td>\n",
              "      <td>44.799988</td>\n",
              "      <td>2.769997</td>\n",
              "    </tr>\n",
              "    <tr>\n",
              "      <th>2009-01-12</th>\n",
              "      <td>-54.070007</td>\n",
              "      <td>199.599976</td>\n",
              "      <td>7.550003</td>\n",
              "    </tr>\n",
              "    <tr>\n",
              "      <th>2009-01-13</th>\n",
              "      <td>-207.789978</td>\n",
              "      <td>-379.000000</td>\n",
              "      <td>-40.590004</td>\n",
              "    </tr>\n",
              "    <tr>\n",
              "      <th>2009-01-14</th>\n",
              "      <td>0.850006</td>\n",
              "      <td>-11.899963</td>\n",
              "      <td>-0.500000</td>\n",
              "    </tr>\n",
              "    <tr>\n",
              "      <th>2009-01-15</th>\n",
              "      <td>-3.970001</td>\n",
              "      <td>-1.500000</td>\n",
              "      <td>-1.879997</td>\n",
              "    </tr>\n",
              "    <tr>\n",
              "      <th>...</th>\n",
              "      <td>...</td>\n",
              "      <td>...</td>\n",
              "      <td>...</td>\n",
              "    </tr>\n",
              "    <tr>\n",
              "      <th>2022-11-03</th>\n",
              "      <td>-35.169922</td>\n",
              "      <td>143.199951</td>\n",
              "      <td>16.230003</td>\n",
              "    </tr>\n",
              "    <tr>\n",
              "      <th>2022-11-05</th>\n",
              "      <td>-165.010010</td>\n",
              "      <td>-132.099976</td>\n",
              "      <td>-3.620003</td>\n",
              "    </tr>\n",
              "    <tr>\n",
              "      <th>2022-12-01</th>\n",
              "      <td>208.979980</td>\n",
              "      <td>-27.300049</td>\n",
              "      <td>-23.070000</td>\n",
              "    </tr>\n",
              "    <tr>\n",
              "      <th>2022-12-04</th>\n",
              "      <td>-55.260010</td>\n",
              "      <td>149.300049</td>\n",
              "      <td>17.959999</td>\n",
              "    </tr>\n",
              "    <tr>\n",
              "      <th>2022-12-05</th>\n",
              "      <td>-216.410034</td>\n",
              "      <td>-151.400024</td>\n",
              "      <td>5.529999</td>\n",
              "    </tr>\n",
              "  </tbody>\n",
              "</table>\n",
              "<p>3295 rows × 3 columns</p>\n",
              "</div>"
            ],
            "text/plain": [
              "            Stock_1_diff  Gold_1_diff  Oil_1_diff\n",
              "Ngày                                             \n",
              "2009-01-10     21.299988    44.799988    2.769997\n",
              "2009-01-12    -54.070007   199.599976    7.550003\n",
              "2009-01-13   -207.789978  -379.000000  -40.590004\n",
              "2009-01-14      0.850006   -11.899963   -0.500000\n",
              "2009-01-15     -3.970001    -1.500000   -1.879997\n",
              "...                  ...          ...         ...\n",
              "2022-11-03    -35.169922   143.199951   16.230003\n",
              "2022-11-05   -165.010010  -132.099976   -3.620003\n",
              "2022-12-01    208.979980   -27.300049  -23.070000\n",
              "2022-12-04    -55.260010   149.300049   17.959999\n",
              "2022-12-05   -216.410034  -151.400024    5.529999\n",
              "\n",
              "[3295 rows x 3 columns]"
            ]
          },
          "execution_count": 38,
          "metadata": {},
          "output_type": "execute_result"
        }
      ],
      "source": [
        "df_input"
      ]
    },
    {
      "cell_type": "code",
      "execution_count": 39,
      "metadata": {
        "id": "zflJjxO9_k4H"
      },
      "outputs": [],
      "source": [
        "df_train = df_input[:int(0.9*(len(df_input)))]\n",
        "df_test = df_input[int(0.9*(len(df_input))):]"
      ]
    },
    {
      "cell_type": "code",
      "execution_count": 40,
      "metadata": {
        "colab": {
          "base_uri": "https://localhost:8080/"
        },
        "id": "kObZX1w8AaOb",
        "outputId": "22007c59-82f1-4f60-89eb-32283e849310"
      },
      "outputs": [
        {
          "data": {
            "text/plain": [
              "(2965, 3)"
            ]
          },
          "execution_count": 40,
          "metadata": {},
          "output_type": "execute_result"
        }
      ],
      "source": [
        "df_train.shape"
      ]
    },
    {
      "cell_type": "code",
      "execution_count": 41,
      "metadata": {
        "colab": {
          "base_uri": "https://localhost:8080/"
        },
        "id": "tsno9RVDAUjs",
        "outputId": "75e3f685-8edd-4cbb-ccd1-803f64969fda"
      },
      "outputs": [
        {
          "data": {
            "text/plain": [
              "(330, 3)"
            ]
          },
          "execution_count": 41,
          "metadata": {},
          "output_type": "execute_result"
        }
      ],
      "source": [
        "df_test.shape"
      ]
    },
    {
      "cell_type": "markdown",
      "metadata": {
        "id": "mLmRHWJ4eO7C"
      },
      "source": [
        "![link text](https://wikimedia.org/api/rest_v1/media/math/render/svg/d79bead4e9192d7fe2470a7936e4623e9ff252e1)\n",
        "\n",
        "![link text](https://wikimedia.org/api/rest_v1/media/math/render/svg/d88ac4002c0641b2e93fb6d35f961ea63352b6a9)"
      ]
    },
    {
      "cell_type": "code",
      "execution_count": 42,
      "metadata": {
        "colab": {
          "base_uri": "https://localhost:8080/"
        },
        "id": "ZMKkIsDmBUrx",
        "outputId": "b8176cbb-74b1-4d5a-a1cf-0e5238008fb2"
      },
      "outputs": [
        {
          "name": "stderr",
          "output_type": "stream",
          "text": [
            "d:\\Python\\Python39\\lib\\site-packages\\statsmodels\\tsa\\base\\tsa_model.py:471: ValueWarning: A date index has been provided, but it has no associated frequency information and so will be ignored when e.g. forecasting.\n",
            "  self._init_dates(dates, freq)\n"
          ]
        },
        {
          "name": "stdout",
          "output_type": "stream",
          "text": [
            "Order =  1\n",
            "AIC:  19.35323272743337\n",
            "BIC:  19.37750112818809\n",
            "Order =  2\n",
            "AIC:  19.27393796179203\n",
            "BIC:  19.316419604889916\n",
            "Order =  3\n",
            "AIC:  19.219247134251376\n",
            "BIC:  19.27995226586678\n",
            "Order =  4\n",
            "AIC:  19.169361426218554\n",
            "BIC:  19.24830030186731\n",
            "Order =  5\n",
            "AIC:  19.122903757115317\n",
            "BIC:  19.22008664166642\n",
            "Order =  6\n",
            "AIC:  19.09146716851004\n",
            "BIC:  19.20690433619737\n",
            "Order =  7\n",
            "AIC:  19.079447008027795\n",
            "BIC:  19.21314874246183\n",
            "Order =  8\n",
            "AIC:  19.063187106632846\n",
            "BIC:  19.215163700812397\n",
            "Order =  9\n",
            "AIC:  19.04669706681873\n",
            "BIC:  19.216958823142722\n",
            "Order =  10\n",
            "AIC:  19.03737471767024\n",
            "BIC:  19.225931947949476\n",
            "Order =  11\n",
            "AIC:  19.03186937273778\n",
            "BIC:  19.238732398206743\n",
            "Order =  12\n",
            "AIC:  19.028198974157263\n",
            "BIC:  19.253378125485938\n",
            "Order =  13\n",
            "AIC:  19.008140232795718\n",
            "BIC:  19.251645850101422\n",
            "Order =  14\n",
            "AIC:  19.003998681199967\n",
            "BIC:  19.265841114059214\n",
            "Order =  15\n",
            "AIC:  18.988081018418075\n",
            "BIC:  19.26827062587844\n",
            "Order =  16\n",
            "AIC:  18.963553565479017\n",
            "BIC:  19.262100716071032\n",
            "Order =  17\n",
            "AIC:  18.9219871329028\n",
            "BIC:  19.238902204651865\n",
            "Order =  18\n",
            "AIC:  18.865065850816897\n",
            "BIC:  19.200359231255213\n",
            "Order =  19\n",
            "AIC:  18.81359565020586\n",
            "BIC:  19.16727773638438\n",
            "Order =  20\n",
            "AIC:  18.766166191504603\n",
            "BIC:  19.138247390005002\n",
            "Order =  21\n",
            "AIC:  18.76259904676042\n",
            "BIC:  19.15308977370708\n",
            "Order =  22\n",
            "AIC:  18.744180914644858\n",
            "BIC:  19.153091595716866\n",
            "Order =  23\n",
            "AIC:  18.742141385925073\n",
            "BIC:  19.169482456368275\n",
            "Order =  24\n",
            "AIC:  18.74236645084234\n",
            "BIC:  19.18814835548135\n",
            "Order =  25\n",
            "AIC:  18.746758611479397\n",
            "BIC:  19.210991804729687\n",
            "Order =  26\n",
            "AIC:  18.74914451014399\n",
            "BIC:  19.231839456023977\n",
            "Order =  27\n",
            "AIC:  18.75450713538677\n",
            "BIC:  19.255674307529905\n",
            "Order =  28\n",
            "AIC:  18.759854948822476\n",
            "BIC:  19.279504830489362\n",
            "Order =  29\n",
            "AIC:  18.766296521709148\n",
            "BIC:  19.304439605799708\n",
            "Order =  30\n",
            "AIC:  18.770060814026433\n",
            "BIC:  19.32670760309205\n",
            "Order =  31\n",
            "AIC:  18.7752163036371\n",
            "BIC:  19.350377309892803\n",
            "Order =  32\n",
            "AIC:  18.778334841886437\n",
            "BIC:  19.3720205872231\n",
            "Order =  33\n",
            "AIC:  18.776081225869127\n",
            "BIC:  19.388302241865706\n",
            "Order =  34\n",
            "AIC:  18.779094461477566\n",
            "BIC:  19.40986128941331\n",
            "Order =  35\n",
            "AIC:  18.77766405695049\n",
            "BIC:  19.426987247817223\n",
            "Order =  36\n",
            "AIC:  18.77044075802291\n",
            "BIC:  19.438330872537307\n",
            "Order =  37\n",
            "AIC:  18.770505958331057\n",
            "BIC:  19.45697356694693\n",
            "Order =  38\n",
            "AIC:  18.752781668018766\n",
            "BIC:  19.4578373509394\n",
            "Order =  39\n",
            "AIC:  18.754725346823342\n",
            "BIC:  19.47837969401382\n",
            "Order =  40\n",
            "AIC:  18.759485899658593\n",
            "BIC:  19.50174951085816\n",
            "Order =  41\n",
            "AIC:  18.76040306583848\n",
            "BIC:  19.521286550572924\n",
            "Order =  42\n",
            "AIC:  18.75489865452751\n",
            "BIC:  19.53441263212155\n",
            "Order =  43\n",
            "AIC:  18.756335703851196\n",
            "BIC:  19.554490803440913\n",
            "Order =  44\n",
            "AIC:  18.760255228014213\n",
            "BIC:  19.577062088559472\n",
            "Order =  45\n",
            "AIC:  18.760558767045318\n",
            "BIC:  19.596028037342244\n",
            "Order =  46\n",
            "AIC:  18.766381477692214\n",
            "BIC:  19.62052381638566\n",
            "Order =  47\n",
            "AIC:  18.771864462916334\n",
            "BIC:  19.64469053851237\n",
            "Order =  48\n",
            "AIC:  18.776424551249058\n",
            "BIC:  19.667945042127513\n"
          ]
        }
      ],
      "source": [
        "model = VAR(df_train)\n",
        "for i in range(48):\n",
        "    results = model.fit(i+1)\n",
        "    print('Order = ', i+1)\n",
        "    print('AIC: ', results.aic)\n",
        "    print('BIC: ', results.bic)"
      ]
    },
    {
      "cell_type": "code",
      "execution_count": 43,
      "metadata": {
        "colab": {
          "base_uri": "https://localhost:8080/",
          "height": 1000
        },
        "id": "M89Cq70uOMGv",
        "outputId": "b992503d-6ab7-48ba-ea6b-1117bb01ebd0"
      },
      "outputs": [
        {
          "data": {
            "text/html": [
              "<table class=\"simpletable\">\n",
              "<caption>VAR Order Selection (* highlights the minimums)</caption>\n",
              "<tr>\n",
              "   <td></td>      <th>AIC</th>         <th>BIC</th>         <th>FPE</th>        <th>HQIC</th>    \n",
              "</tr>\n",
              "<tr>\n",
              "  <th>0</th>  <td>     19.39</td>  <td>     19.39</td>  <td> 2.628e+08</td>  <td>     19.39</td> \n",
              "</tr>\n",
              "<tr>\n",
              "  <th>1</th>  <td>     19.29</td>  <td>     19.32</td>  <td> 2.395e+08</td>  <td>     19.30</td> \n",
              "</tr>\n",
              "<tr>\n",
              "  <th>2</th>  <td>     19.21</td>  <td>     19.26</td>  <td> 2.209e+08</td>  <td>     19.23</td> \n",
              "</tr>\n",
              "<tr>\n",
              "  <th>3</th>  <td>     19.18</td>  <td>     19.24</td>  <td> 2.139e+08</td>  <td>     19.20</td> \n",
              "</tr>\n",
              "<tr>\n",
              "  <th>4</th>  <td>     19.13</td>  <td>     19.21</td>  <td> 2.034e+08</td>  <td>     19.16</td> \n",
              "</tr>\n",
              "<tr>\n",
              "  <th>5</th>  <td>     19.09</td>  <td>     19.18</td>  <td> 1.943e+08</td>  <td>     19.12</td> \n",
              "</tr>\n",
              "<tr>\n",
              "  <th>6</th>  <td>     19.05</td>  <td>     19.17</td>  <td> 1.882e+08</td>  <td>     19.10</td> \n",
              "</tr>\n",
              "<tr>\n",
              "  <th>7</th>  <td>     19.04</td>  <td>     19.18</td>  <td> 1.860e+08</td>  <td>     19.09</td> \n",
              "</tr>\n",
              "<tr>\n",
              "  <th>8</th>  <td>     19.03</td>  <td>     19.18</td>  <td> 1.831e+08</td>  <td>     19.08</td> \n",
              "</tr>\n",
              "<tr>\n",
              "  <th>9</th>  <td>     19.01</td>  <td>     19.18</td>  <td> 1.799e+08</td>  <td>     19.07</td> \n",
              "</tr>\n",
              "<tr>\n",
              "  <th>10</th> <td>     19.00</td>  <td>     19.19</td>  <td> 1.780e+08</td>  <td>     19.07</td> \n",
              "</tr>\n",
              "<tr>\n",
              "  <th>11</th> <td>     18.99</td>  <td>     19.20</td>  <td> 1.769e+08</td>  <td>     19.07</td> \n",
              "</tr>\n",
              "<tr>\n",
              "  <th>12</th> <td>     18.99</td>  <td>     19.22</td>  <td> 1.766e+08</td>  <td>     19.07</td> \n",
              "</tr>\n",
              "<tr>\n",
              "  <th>13</th> <td>     18.97</td>  <td>     19.22</td>  <td> 1.736e+08</td>  <td>     19.06</td> \n",
              "</tr>\n",
              "<tr>\n",
              "  <th>14</th> <td>     18.97</td>  <td>     19.23</td>  <td> 1.732e+08</td>  <td>     19.07</td> \n",
              "</tr>\n",
              "<tr>\n",
              "  <th>15</th> <td>     18.96</td>  <td>     19.24</td>  <td> 1.715e+08</td>  <td>     19.06</td> \n",
              "</tr>\n",
              "<tr>\n",
              "  <th>16</th> <td>     18.94</td>  <td>     19.24</td>  <td> 1.679e+08</td>  <td>     19.05</td> \n",
              "</tr>\n",
              "<tr>\n",
              "  <th>17</th> <td>     18.90</td>  <td>     19.22</td>  <td> 1.609e+08</td>  <td>     19.01</td> \n",
              "</tr>\n",
              "<tr>\n",
              "  <th>18</th> <td>     18.83</td>  <td>     19.16</td>  <td> 1.501e+08</td>  <td>     18.95</td> \n",
              "</tr>\n",
              "<tr>\n",
              "  <th>19</th> <td>     18.77</td>  <td>     19.13</td>  <td> 1.424e+08</td>  <td>     18.90</td> \n",
              "</tr>\n",
              "<tr>\n",
              "  <th>20</th> <td>     18.74</td>  <td>     19.12*</td> <td> 1.382e+08</td>  <td>     18.88</td> \n",
              "</tr>\n",
              "<tr>\n",
              "  <th>21</th> <td>     18.74</td>  <td>     19.14</td>  <td> 1.380e+08</td>  <td>     18.88</td> \n",
              "</tr>\n",
              "<tr>\n",
              "  <th>22</th> <td>     18.72</td>  <td>     19.13</td>  <td> 1.353e+08</td>  <td>     18.87*</td>\n",
              "</tr>\n",
              "<tr>\n",
              "  <th>23</th> <td>     18.72</td>  <td>     19.15</td>  <td> 1.347e+08</td>  <td>     18.87</td> \n",
              "</tr>\n",
              "<tr>\n",
              "  <th>24</th> <td>     18.72*</td> <td>     19.17</td>  <td> 1.345e+08*</td> <td>     18.88</td> \n",
              "</tr>\n",
              "<tr>\n",
              "  <th>25</th> <td>     18.72</td>  <td>     19.19</td>  <td> 1.350e+08</td>  <td>     18.89</td> \n",
              "</tr>\n",
              "<tr>\n",
              "  <th>26</th> <td>     18.72</td>  <td>     19.21</td>  <td> 1.352e+08</td>  <td>     18.90</td> \n",
              "</tr>\n",
              "<tr>\n",
              "  <th>27</th> <td>     18.73</td>  <td>     19.23</td>  <td> 1.358e+08</td>  <td>     18.91</td> \n",
              "</tr>\n",
              "<tr>\n",
              "  <th>28</th> <td>     18.73</td>  <td>     19.25</td>  <td> 1.365e+08</td>  <td>     18.92</td> \n",
              "</tr>\n",
              "<tr>\n",
              "  <th>29</th> <td>     18.74</td>  <td>     19.28</td>  <td> 1.373e+08</td>  <td>     18.93</td> \n",
              "</tr>\n",
              "<tr>\n",
              "  <th>30</th> <td>     18.74</td>  <td>     19.30</td>  <td> 1.377e+08</td>  <td>     18.94</td> \n",
              "</tr>\n",
              "<tr>\n",
              "  <th>31</th> <td>     18.74</td>  <td>     19.32</td>  <td> 1.383e+08</td>  <td>     18.95</td> \n",
              "</tr>\n",
              "<tr>\n",
              "  <th>32</th> <td>     18.75</td>  <td>     19.34</td>  <td> 1.387e+08</td>  <td>     18.96</td> \n",
              "</tr>\n",
              "<tr>\n",
              "  <th>33</th> <td>     18.75</td>  <td>     19.37</td>  <td> 1.391e+08</td>  <td>     18.97</td> \n",
              "</tr>\n",
              "<tr>\n",
              "  <th>34</th> <td>     18.76</td>  <td>     19.39</td>  <td> 1.398e+08</td>  <td>     18.98</td> \n",
              "</tr>\n",
              "<tr>\n",
              "  <th>35</th> <td>     18.76</td>  <td>     19.41</td>  <td> 1.401e+08</td>  <td>     18.99</td> \n",
              "</tr>\n",
              "<tr>\n",
              "  <th>36</th> <td>     18.75</td>  <td>     19.42</td>  <td> 1.396e+08</td>  <td>     19.00</td> \n",
              "</tr>\n",
              "<tr>\n",
              "  <th>37</th> <td>     18.76</td>  <td>     19.44</td>  <td> 1.398e+08</td>  <td>     19.00</td> \n",
              "</tr>\n",
              "<tr>\n",
              "  <th>38</th> <td>     18.76</td>  <td>     19.47</td>  <td> 1.402e+08</td>  <td>     19.01</td> \n",
              "</tr>\n",
              "<tr>\n",
              "  <th>39</th> <td>     18.76</td>  <td>     19.49</td>  <td> 1.404e+08</td>  <td>     19.02</td> \n",
              "</tr>\n",
              "<tr>\n",
              "  <th>40</th> <td>     18.76</td>  <td>     19.51</td>  <td> 1.410e+08</td>  <td>     19.03</td> \n",
              "</tr>\n",
              "<tr>\n",
              "  <th>41</th> <td>     18.76</td>  <td>     19.53</td>  <td> 1.410e+08</td>  <td>     19.04</td> \n",
              "</tr>\n",
              "<tr>\n",
              "  <th>42</th> <td>     18.76</td>  <td>     19.54</td>  <td> 1.404e+08</td>  <td>     19.04</td> \n",
              "</tr>\n",
              "<tr>\n",
              "  <th>43</th> <td>     18.76</td>  <td>     19.56</td>  <td> 1.406e+08</td>  <td>     19.05</td> \n",
              "</tr>\n",
              "<tr>\n",
              "  <th>44</th> <td>     18.76</td>  <td>     19.58</td>  <td> 1.410e+08</td>  <td>     19.06</td> \n",
              "</tr>\n",
              "<tr>\n",
              "  <th>45</th> <td>     18.76</td>  <td>     19.60</td>  <td> 1.409e+08</td>  <td>     19.06</td> \n",
              "</tr>\n",
              "<tr>\n",
              "  <th>46</th> <td>     18.77</td>  <td>     19.62</td>  <td> 1.416e+08</td>  <td>     19.08</td> \n",
              "</tr>\n",
              "<tr>\n",
              "  <th>47</th> <td>     18.77</td>  <td>     19.65</td>  <td> 1.422e+08</td>  <td>     19.09</td> \n",
              "</tr>\n",
              "<tr>\n",
              "  <th>48</th> <td>     18.78</td>  <td>     19.67</td>  <td> 1.428e+08</td>  <td>     19.10</td> \n",
              "</tr>\n",
              "</table>"
            ],
            "text/plain": [
              "<class 'statsmodels.iolib.table.SimpleTable'>"
            ]
          },
          "execution_count": 43,
          "metadata": {},
          "output_type": "execute_result"
        }
      ],
      "source": [
        "model.select_order(48).summary()"
      ]
    },
    {
      "cell_type": "code",
      "execution_count": 91,
      "metadata": {
        "id": "TCmSUixyB45K"
      },
      "outputs": [
        {
          "name": "stderr",
          "output_type": "stream",
          "text": [
            "d:\\Python\\Python39\\lib\\site-packages\\statsmodels\\tsa\\base\\tsa_model.py:471: ValueWarning: A date index has been provided, but it has no associated frequency information and so will be ignored when e.g. forecasting.\n",
            "  self._init_dates(dates, freq)\n"
          ]
        }
      ],
      "source": [
        "model = VAR(df_train)\n",
        "results = model.fit(maxlags=2)"
      ]
    },
    {
      "cell_type": "code",
      "execution_count": 92,
      "metadata": {
        "colab": {
          "base_uri": "https://localhost:8080/"
        },
        "id": "Mt__k6JGEWKt",
        "outputId": "6686c5bf-7772-40e1-81a6-fb222d334f21"
      },
      "outputs": [
        {
          "name": "stdout",
          "output_type": "stream",
          "text": [
            "  Summary of Regression Results   \n",
            "==================================\n",
            "Model:                         VAR\n",
            "Method:                        OLS\n",
            "Date:           Thu, 09, Jun, 2022\n",
            "Time:                     11:04:41\n",
            "--------------------------------------------------------------------\n",
            "No. of Equations:         3.00000    BIC:                    19.3164\n",
            "Nobs:                     2963.00    HQIC:                   19.2892\n",
            "Log likelihood:          -41146.3    FPE:                2.34728e+08\n",
            "AIC:                      19.2739    Det(Omega_mle):     2.33072e+08\n",
            "--------------------------------------------------------------------\n",
            "Results for equation Stock_1_diff\n",
            "==================================================================================\n",
            "                     coefficient       std. error           t-stat            prob\n",
            "----------------------------------------------------------------------------------\n",
            "const                   0.254443         0.755134            0.337           0.736\n",
            "L1.Stock_1_diff        -0.208219         0.019853          -10.488           0.000\n",
            "L1.Gold_1_diff          0.046326         0.011135            4.160           0.000\n",
            "L1.Oil_1_diff           0.232312         0.134583            1.726           0.084\n",
            "L2.Stock_1_diff        -0.144368         0.019784           -7.297           0.000\n",
            "L2.Gold_1_diff          0.047409         0.011175            4.242           0.000\n",
            "L2.Oil_1_diff           0.111195         0.134354            0.828           0.408\n",
            "==================================================================================\n",
            "\n",
            "Results for equation Gold_1_diff\n",
            "==================================================================================\n",
            "                     coefficient       std. error           t-stat            prob\n",
            "----------------------------------------------------------------------------------\n",
            "const                   0.291490         1.246145            0.234           0.815\n",
            "L1.Stock_1_diff        -0.034598         0.032761           -1.056           0.291\n",
            "L1.Gold_1_diff         -0.131807         0.018375           -7.173           0.000\n",
            "L1.Oil_1_diff          -0.046646         0.222092           -0.210           0.834\n",
            "L2.Stock_1_diff         0.026347         0.032648            0.807           0.420\n",
            "L2.Gold_1_diff         -0.078198         0.018442           -4.240           0.000\n",
            "L2.Oil_1_diff          -0.573535         0.221716           -2.587           0.010\n",
            "==================================================================================\n",
            "\n",
            "Results for equation Oil_1_diff\n",
            "==================================================================================\n",
            "                     coefficient       std. error           t-stat            prob\n",
            "----------------------------------------------------------------------------------\n",
            "const                  -0.009256         0.110651           -0.084           0.933\n",
            "L1.Stock_1_diff         0.002074         0.002909            0.713           0.476\n",
            "L1.Gold_1_diff         -0.002326         0.001632           -1.426           0.154\n",
            "L1.Oil_1_diff          -0.218463         0.019721          -11.078           0.000\n",
            "L2.Stock_1_diff        -0.005369         0.002899           -1.852           0.064\n",
            "L2.Gold_1_diff         -0.000411         0.001638           -0.251           0.802\n",
            "L2.Oil_1_diff          -0.194978         0.019687           -9.904           0.000\n",
            "==================================================================================\n",
            "\n",
            "Correlation matrix of residuals\n",
            "                Stock_1_diff  Gold_1_diff  Oil_1_diff\n",
            "Stock_1_diff        1.000000     0.052172    0.407622\n",
            "Gold_1_diff         0.052172     1.000000    0.091002\n",
            "Oil_1_diff          0.407622     0.091002    1.000000\n",
            "\n",
            "\n",
            "\n"
          ]
        }
      ],
      "source": [
        "print(results.summary())"
      ]
    },
    {
      "cell_type": "code",
      "execution_count": 93,
      "metadata": {
        "id": "ybVtC9NtFEHu"
      },
      "outputs": [],
      "source": [
        "lag=results.k_ar"
      ]
    },
    {
      "cell_type": "code",
      "execution_count": 94,
      "metadata": {
        "colab": {
          "base_uri": "https://localhost:8080/"
        },
        "id": "I6W7dPfOHWsW",
        "outputId": "ee86e783-1f25-4e58-9067-d0c20adb1f7f"
      },
      "outputs": [
        {
          "data": {
            "text/plain": [
              "array([[ 1.08007861e+01, -7.15642230e+00,  7.81303806e-02],\n",
              "       [-1.60131499e+00, -1.18878667e+00, -6.82213591e-02],\n",
              "       [-1.37292781e+00,  1.30613744e+00, -6.51895003e-02],\n",
              "       [ 7.52910192e-01,  2.59772558e-01,  2.14890491e-02],\n",
              "       [ 3.67578667e-01,  1.29278038e-01,  6.55196841e-03]])"
            ]
          },
          "execution_count": 94,
          "metadata": {},
          "output_type": "execute_result"
        }
      ],
      "source": [
        "results.forecast(df_train.values[-lag:],steps=5)"
      ]
    },
    {
      "cell_type": "code",
      "execution_count": 96,
      "metadata": {
        "colab": {
          "base_uri": "https://localhost:8080/",
          "height": 233
        },
        "id": "J72s5LjaJLjo",
        "outputId": "42a224bf-9d43-4d08-f58e-f8f92ff38448"
      },
      "outputs": [
        {
          "data": {
            "text/html": [
              "<div>\n",
              "<style scoped>\n",
              "    .dataframe tbody tr th:only-of-type {\n",
              "        vertical-align: middle;\n",
              "    }\n",
              "\n",
              "    .dataframe tbody tr th {\n",
              "        vertical-align: top;\n",
              "    }\n",
              "\n",
              "    .dataframe thead th {\n",
              "        text-align: right;\n",
              "    }\n",
              "</style>\n",
              "<table border=\"1\" class=\"dataframe\">\n",
              "  <thead>\n",
              "    <tr style=\"text-align: right;\">\n",
              "      <th></th>\n",
              "      <th>Stock_1_diff</th>\n",
              "      <th>Gold_1_diff</th>\n",
              "      <th>Oil_1_diff</th>\n",
              "    </tr>\n",
              "    <tr>\n",
              "      <th>Ngày</th>\n",
              "      <th></th>\n",
              "      <th></th>\n",
              "      <th></th>\n",
              "    </tr>\n",
              "  </thead>\n",
              "  <tbody>\n",
              "    <tr>\n",
              "      <th>2021-01-21</th>\n",
              "      <td>29.529907</td>\n",
              "      <td>-1.000000</td>\n",
              "      <td>-0.110001</td>\n",
              "    </tr>\n",
              "    <tr>\n",
              "      <th>2021-01-22</th>\n",
              "      <td>2.570068</td>\n",
              "      <td>-11.900024</td>\n",
              "      <td>-0.860001</td>\n",
              "    </tr>\n",
              "    <tr>\n",
              "      <th>2021-01-25</th>\n",
              "      <td>-0.729980</td>\n",
              "      <td>-0.599976</td>\n",
              "      <td>0.500000</td>\n",
              "    </tr>\n",
              "    <tr>\n",
              "      <th>2021-01-26</th>\n",
              "      <td>-29.930054</td>\n",
              "      <td>-4.000000</td>\n",
              "      <td>-0.160000</td>\n",
              "    </tr>\n",
              "    <tr>\n",
              "      <th>2021-01-27</th>\n",
              "      <td>-38.949951</td>\n",
              "      <td>-6.000000</td>\n",
              "      <td>0.239998</td>\n",
              "    </tr>\n",
              "    <tr>\n",
              "      <th>2021-01-28</th>\n",
              "      <td>-73.230042</td>\n",
              "      <td>-8.199951</td>\n",
              "      <td>-0.509998</td>\n",
              "    </tr>\n",
              "    <tr>\n",
              "      <th>2021-01-29</th>\n",
              "      <td>32.669983</td>\n",
              "      <td>8.199951</td>\n",
              "      <td>-0.139999</td>\n",
              "    </tr>\n",
              "    <tr>\n",
              "      <th>2021-02-02</th>\n",
              "      <td>18.920044</td>\n",
              "      <td>-16.400024</td>\n",
              "      <td>2.559998</td>\n",
              "    </tr>\n",
              "    <tr>\n",
              "      <th>2021-02-03</th>\n",
              "      <td>111.079956</td>\n",
              "      <td>-97.299927</td>\n",
              "      <td>4.990002</td>\n",
              "    </tr>\n",
              "    <tr>\n",
              "      <th>2021-02-06</th>\n",
              "      <td>154.170044</td>\n",
              "      <td>171.000000</td>\n",
              "      <td>9.080002</td>\n",
              "    </tr>\n",
              "    <tr>\n",
              "      <th>2021-02-07</th>\n",
              "      <td>79.489990</td>\n",
              "      <td>-127.100098</td>\n",
              "      <td>6.330002</td>\n",
              "    </tr>\n",
              "    <tr>\n",
              "      <th>2021-02-08</th>\n",
              "      <td>-106.050049</td>\n",
              "      <td>34.900024</td>\n",
              "      <td>-3.900002</td>\n",
              "    </tr>\n",
              "    <tr>\n",
              "      <th>2021-02-11</th>\n",
              "      <td>138.239990</td>\n",
              "      <td>-33.000000</td>\n",
              "      <td>12.650002</td>\n",
              "    </tr>\n",
              "    <tr>\n",
              "      <th>2021-02-12</th>\n",
              "      <td>29.590088</td>\n",
              "      <td>-27.699951</td>\n",
              "      <td>-17.410004</td>\n",
              "    </tr>\n",
              "    <tr>\n",
              "      <th>2021-02-17</th>\n",
              "      <td>-326.270020</td>\n",
              "      <td>18.799927</td>\n",
              "      <td>-5.360001</td>\n",
              "    </tr>\n",
              "    <tr>\n",
              "      <th>2021-02-18</th>\n",
              "      <td>18.599976</td>\n",
              "      <td>1.800049</td>\n",
              "      <td>-0.619999</td>\n",
              "    </tr>\n",
              "    <tr>\n",
              "      <th>2021-02-19</th>\n",
              "      <td>-0.880005</td>\n",
              "      <td>2.300049</td>\n",
              "      <td>-1.279999</td>\n",
              "    </tr>\n",
              "    <tr>\n",
              "      <th>2021-02-22</th>\n",
              "      <td>1.540039</td>\n",
              "      <td>30.099976</td>\n",
              "      <td>2.250000</td>\n",
              "    </tr>\n",
              "    <tr>\n",
              "      <th>2021-02-23</th>\n",
              "      <td>2.599976</td>\n",
              "      <td>-2.500000</td>\n",
              "      <td>0.179996</td>\n",
              "    </tr>\n",
              "    <tr>\n",
              "      <th>2021-02-24</th>\n",
              "      <td>-15.630005</td>\n",
              "      <td>-7.500000</td>\n",
              "      <td>1.550003</td>\n",
              "    </tr>\n",
              "    <tr>\n",
              "      <th>2021-02-25</th>\n",
              "      <td>3.420044</td>\n",
              "      <td>-20.099976</td>\n",
              "      <td>0.309998</td>\n",
              "    </tr>\n",
              "    <tr>\n",
              "      <th>2021-02-26</th>\n",
              "      <td>3.039917</td>\n",
              "      <td>-45.400024</td>\n",
              "      <td>-2.029999</td>\n",
              "    </tr>\n",
              "    <tr>\n",
              "      <th>2021-03-02</th>\n",
              "      <td>-57.179932</td>\n",
              "      <td>105.199951</td>\n",
              "      <td>-5.810001</td>\n",
              "    </tr>\n",
              "    <tr>\n",
              "      <th>2021-03-03</th>\n",
              "      <td>75.659912</td>\n",
              "      <td>-118.500000</td>\n",
              "      <td>5.590000</td>\n",
              "    </tr>\n",
              "    <tr>\n",
              "      <th>2021-03-06</th>\n",
              "      <td>177.330078</td>\n",
              "      <td>152.099976</td>\n",
              "      <td>7.529999</td>\n",
              "    </tr>\n",
              "  </tbody>\n",
              "</table>\n",
              "</div>"
            ],
            "text/plain": [
              "            Stock_1_diff  Gold_1_diff  Oil_1_diff\n",
              "Ngày                                             \n",
              "2021-01-21     29.529907    -1.000000   -0.110001\n",
              "2021-01-22      2.570068   -11.900024   -0.860001\n",
              "2021-01-25     -0.729980    -0.599976    0.500000\n",
              "2021-01-26    -29.930054    -4.000000   -0.160000\n",
              "2021-01-27    -38.949951    -6.000000    0.239998\n",
              "2021-01-28    -73.230042    -8.199951   -0.509998\n",
              "2021-01-29     32.669983     8.199951   -0.139999\n",
              "2021-02-02     18.920044   -16.400024    2.559998\n",
              "2021-02-03    111.079956   -97.299927    4.990002\n",
              "2021-02-06    154.170044   171.000000    9.080002\n",
              "2021-02-07     79.489990  -127.100098    6.330002\n",
              "2021-02-08   -106.050049    34.900024   -3.900002\n",
              "2021-02-11    138.239990   -33.000000   12.650002\n",
              "2021-02-12     29.590088   -27.699951  -17.410004\n",
              "2021-02-17   -326.270020    18.799927   -5.360001\n",
              "2021-02-18     18.599976     1.800049   -0.619999\n",
              "2021-02-19     -0.880005     2.300049   -1.279999\n",
              "2021-02-22      1.540039    30.099976    2.250000\n",
              "2021-02-23      2.599976    -2.500000    0.179996\n",
              "2021-02-24    -15.630005    -7.500000    1.550003\n",
              "2021-02-25      3.420044   -20.099976    0.309998\n",
              "2021-02-26      3.039917   -45.400024   -2.029999\n",
              "2021-03-02    -57.179932   105.199951   -5.810001\n",
              "2021-03-03     75.659912  -118.500000    5.590000\n",
              "2021-03-06    177.330078   152.099976    7.529999"
            ]
          },
          "execution_count": 96,
          "metadata": {},
          "output_type": "execute_result"
        }
      ],
      "source": [
        "df_test[0:5]"
      ]
    },
    {
      "cell_type": "code",
      "execution_count": 97,
      "metadata": {
        "id": "OYRnQZkkTAwI"
      },
      "outputs": [],
      "source": [
        "df_coeff=pd.DataFrame([results.params['Stock_1_diff'],results.pvalues['Stock_1_diff']]).T"
      ]
    },
    {
      "cell_type": "code",
      "execution_count": 98,
      "metadata": {
        "colab": {
          "base_uri": "https://localhost:8080/",
          "height": 725
        },
        "id": "Embi1JA0TAlU",
        "outputId": "e1429493-8496-4250-c7c3-462062b369c0"
      },
      "outputs": [
        {
          "data": {
            "text/html": [
              "<div>\n",
              "<style scoped>\n",
              "    .dataframe tbody tr th:only-of-type {\n",
              "        vertical-align: middle;\n",
              "    }\n",
              "\n",
              "    .dataframe tbody tr th {\n",
              "        vertical-align: top;\n",
              "    }\n",
              "\n",
              "    .dataframe thead th {\n",
              "        text-align: right;\n",
              "    }\n",
              "</style>\n",
              "<table border=\"1\" class=\"dataframe\">\n",
              "  <thead>\n",
              "    <tr style=\"text-align: right;\">\n",
              "      <th></th>\n",
              "      <th>Stock_1_diff</th>\n",
              "      <th>Stock_1_diff</th>\n",
              "    </tr>\n",
              "  </thead>\n",
              "  <tbody>\n",
              "    <tr>\n",
              "      <th>const</th>\n",
              "      <td>0.254443</td>\n",
              "      <td>7.361544e-01</td>\n",
              "    </tr>\n",
              "    <tr>\n",
              "      <th>L1.Stock_1_diff</th>\n",
              "      <td>-0.208219</td>\n",
              "      <td>9.782957e-26</td>\n",
              "    </tr>\n",
              "    <tr>\n",
              "      <th>L1.Gold_1_diff</th>\n",
              "      <td>0.046326</td>\n",
              "      <td>3.177400e-05</td>\n",
              "    </tr>\n",
              "    <tr>\n",
              "      <th>L1.Oil_1_diff</th>\n",
              "      <td>0.232312</td>\n",
              "      <td>8.431741e-02</td>\n",
              "    </tr>\n",
              "    <tr>\n",
              "      <th>L2.Stock_1_diff</th>\n",
              "      <td>-0.144368</td>\n",
              "      <td>2.939320e-13</td>\n",
              "    </tr>\n",
              "    <tr>\n",
              "      <th>L2.Gold_1_diff</th>\n",
              "      <td>0.047409</td>\n",
              "      <td>2.212875e-05</td>\n",
              "    </tr>\n",
              "    <tr>\n",
              "      <th>L2.Oil_1_diff</th>\n",
              "      <td>0.111195</td>\n",
              "      <td>4.078837e-01</td>\n",
              "    </tr>\n",
              "  </tbody>\n",
              "</table>\n",
              "</div>"
            ],
            "text/plain": [
              "                 Stock_1_diff  Stock_1_diff\n",
              "const                0.254443  7.361544e-01\n",
              "L1.Stock_1_diff     -0.208219  9.782957e-26\n",
              "L1.Gold_1_diff       0.046326  3.177400e-05\n",
              "L1.Oil_1_diff        0.232312  8.431741e-02\n",
              "L2.Stock_1_diff     -0.144368  2.939320e-13\n",
              "L2.Gold_1_diff       0.047409  2.212875e-05\n",
              "L2.Oil_1_diff        0.111195  4.078837e-01"
            ]
          },
          "execution_count": 98,
          "metadata": {},
          "output_type": "execute_result"
        }
      ],
      "source": [
        "df_coeff"
      ]
    },
    {
      "cell_type": "code",
      "execution_count": 99,
      "metadata": {
        "id": "ENYNTvKCr08L"
      },
      "outputs": [],
      "source": [
        "df_coeff.columns = ['coeff','pval']"
      ]
    },
    {
      "cell_type": "code",
      "execution_count": 100,
      "metadata": {
        "colab": {
          "base_uri": "https://localhost:8080/"
        },
        "id": "L8_x8m7TsASq",
        "outputId": "e24adf4b-9a38-4349-d44d-a7f8d5e448f5"
      },
      "outputs": [
        {
          "data": {
            "text/plain": [
              "array([0, 1, 1, 0, 1, 1, 0])"
            ]
          },
          "execution_count": 100,
          "metadata": {},
          "output_type": "execute_result"
        }
      ],
      "source": [
        "df_coeff.query('pval < 0.05')\n",
        "np.where(df_coeff['pval'] < 0.05,1, 0)"
      ]
    },
    {
      "cell_type": "code",
      "execution_count": 101,
      "metadata": {
        "id": "L37Mls_FtTAa"
      },
      "outputs": [],
      "source": [
        "df_coeff['valid']=np.where(df_coeff['pval'] < 0.05,1, 0)"
      ]
    },
    {
      "cell_type": "code",
      "execution_count": 102,
      "metadata": {
        "colab": {
          "base_uri": "https://localhost:8080/",
          "height": 725
        },
        "id": "xrB5Ngwc6OhI",
        "outputId": "87e567c2-0e8a-4225-f6ad-559526b6b891"
      },
      "outputs": [
        {
          "data": {
            "text/html": [
              "<div>\n",
              "<style scoped>\n",
              "    .dataframe tbody tr th:only-of-type {\n",
              "        vertical-align: middle;\n",
              "    }\n",
              "\n",
              "    .dataframe tbody tr th {\n",
              "        vertical-align: top;\n",
              "    }\n",
              "\n",
              "    .dataframe thead th {\n",
              "        text-align: right;\n",
              "    }\n",
              "</style>\n",
              "<table border=\"1\" class=\"dataframe\">\n",
              "  <thead>\n",
              "    <tr style=\"text-align: right;\">\n",
              "      <th></th>\n",
              "      <th>coeff</th>\n",
              "      <th>pval</th>\n",
              "      <th>valid</th>\n",
              "    </tr>\n",
              "  </thead>\n",
              "  <tbody>\n",
              "    <tr>\n",
              "      <th>const</th>\n",
              "      <td>0.254443</td>\n",
              "      <td>7.361544e-01</td>\n",
              "      <td>0</td>\n",
              "    </tr>\n",
              "    <tr>\n",
              "      <th>L1.Stock_1_diff</th>\n",
              "      <td>-0.208219</td>\n",
              "      <td>9.782957e-26</td>\n",
              "      <td>1</td>\n",
              "    </tr>\n",
              "    <tr>\n",
              "      <th>L1.Gold_1_diff</th>\n",
              "      <td>0.046326</td>\n",
              "      <td>3.177400e-05</td>\n",
              "      <td>1</td>\n",
              "    </tr>\n",
              "    <tr>\n",
              "      <th>L1.Oil_1_diff</th>\n",
              "      <td>0.232312</td>\n",
              "      <td>8.431741e-02</td>\n",
              "      <td>0</td>\n",
              "    </tr>\n",
              "    <tr>\n",
              "      <th>L2.Stock_1_diff</th>\n",
              "      <td>-0.144368</td>\n",
              "      <td>2.939320e-13</td>\n",
              "      <td>1</td>\n",
              "    </tr>\n",
              "    <tr>\n",
              "      <th>L2.Gold_1_diff</th>\n",
              "      <td>0.047409</td>\n",
              "      <td>2.212875e-05</td>\n",
              "      <td>1</td>\n",
              "    </tr>\n",
              "    <tr>\n",
              "      <th>L2.Oil_1_diff</th>\n",
              "      <td>0.111195</td>\n",
              "      <td>4.078837e-01</td>\n",
              "      <td>0</td>\n",
              "    </tr>\n",
              "  </tbody>\n",
              "</table>\n",
              "</div>"
            ],
            "text/plain": [
              "                    coeff          pval  valid\n",
              "const            0.254443  7.361544e-01      0\n",
              "L1.Stock_1_diff -0.208219  9.782957e-26      1\n",
              "L1.Gold_1_diff   0.046326  3.177400e-05      1\n",
              "L1.Oil_1_diff    0.232312  8.431741e-02      0\n",
              "L2.Stock_1_diff -0.144368  2.939320e-13      1\n",
              "L2.Gold_1_diff   0.047409  2.212875e-05      1\n",
              "L2.Oil_1_diff    0.111195  4.078837e-01      0"
            ]
          },
          "execution_count": 102,
          "metadata": {},
          "output_type": "execute_result"
        }
      ],
      "source": [
        "df_coeff"
      ]
    },
    {
      "cell_type": "code",
      "execution_count": 103,
      "metadata": {
        "id": "-r0g84p66Ulg"
      },
      "outputs": [],
      "source": [
        "#coeff_arr=np.multiply(df_coeff['coeff'], df_coeff['valid'])[1:].values\n",
        "coeff_arr=df_coeff['coeff'][1:].values"
      ]
    },
    {
      "cell_type": "code",
      "execution_count": 104,
      "metadata": {
        "colab": {
          "base_uri": "https://localhost:8080/"
        },
        "id": "NKmlS-DA-74O",
        "outputId": "ebb8e747-c067-4552-fd23-5e4e33e115ca"
      },
      "outputs": [
        {
          "data": {
            "text/plain": [
              "(6,)"
            ]
          },
          "execution_count": 104,
          "metadata": {},
          "output_type": "execute_result"
        }
      ],
      "source": [
        "coeff_arr.shape"
      ]
    },
    {
      "cell_type": "code",
      "execution_count": 105,
      "metadata": {
        "colab": {
          "base_uri": "https://localhost:8080/"
        },
        "id": "xkXCQBWgCu8T",
        "outputId": "0270fff2-2c07-4f2c-8324-f0448e1948ff"
      },
      "outputs": [
        {
          "data": {
            "text/plain": [
              "array([-0.20821947,  0.04632593,  0.23231216, -0.14436779,  0.04740878,\n",
              "        0.11119494])"
            ]
          },
          "execution_count": 105,
          "metadata": {},
          "output_type": "execute_result"
        }
      ],
      "source": [
        "coeff_arr"
      ]
    },
    {
      "cell_type": "code",
      "execution_count": 85,
      "metadata": {
        "colab": {
          "base_uri": "https://localhost:8080/",
          "height": 295
        },
        "id": "YYhgjior6UN6",
        "outputId": "83be1fe3-d525-443e-d1ae-2d664eacacb4"
      },
      "outputs": [
        {
          "data": {
            "text/html": [
              "<div>\n",
              "<style scoped>\n",
              "    .dataframe tbody tr th:only-of-type {\n",
              "        vertical-align: middle;\n",
              "    }\n",
              "\n",
              "    .dataframe tbody tr th {\n",
              "        vertical-align: top;\n",
              "    }\n",
              "\n",
              "    .dataframe thead th {\n",
              "        text-align: right;\n",
              "    }\n",
              "</style>\n",
              "<table border=\"1\" class=\"dataframe\">\n",
              "  <thead>\n",
              "    <tr style=\"text-align: right;\">\n",
              "      <th></th>\n",
              "      <th>Stock_1_diff</th>\n",
              "      <th>Gold_1_diff</th>\n",
              "      <th>Oil_1_diff</th>\n",
              "    </tr>\n",
              "    <tr>\n",
              "      <th>Ngày</th>\n",
              "      <th></th>\n",
              "      <th></th>\n",
              "      <th></th>\n",
              "    </tr>\n",
              "  </thead>\n",
              "  <tbody>\n",
              "    <tr>\n",
              "      <th>2020-12-18</th>\n",
              "      <td>15.689941</td>\n",
              "      <td>-1.299927</td>\n",
              "      <td>0.739998</td>\n",
              "    </tr>\n",
              "    <tr>\n",
              "      <th>2020-12-21</th>\n",
              "      <td>13.619995</td>\n",
              "      <td>-5.800049</td>\n",
              "      <td>-1.359997</td>\n",
              "    </tr>\n",
              "    <tr>\n",
              "      <th>2020-12-22</th>\n",
              "      <td>2.369995</td>\n",
              "      <td>-11.800049</td>\n",
              "      <td>-0.720001</td>\n",
              "    </tr>\n",
              "    <tr>\n",
              "      <th>2020-12-23</th>\n",
              "      <td>-4.549927</td>\n",
              "      <td>6.900024</td>\n",
              "      <td>1.099998</td>\n",
              "    </tr>\n",
              "    <tr>\n",
              "      <th>2020-12-24</th>\n",
              "      <td>-11.380005</td>\n",
              "      <td>5.800049</td>\n",
              "      <td>0.110001</td>\n",
              "    </tr>\n",
              "    <tr>\n",
              "      <th>2020-12-28</th>\n",
              "      <td>23.809937</td>\n",
              "      <td>-2.400024</td>\n",
              "      <td>-0.610001</td>\n",
              "    </tr>\n",
              "    <tr>\n",
              "      <th>2020-12-29</th>\n",
              "      <td>8.160034</td>\n",
              "      <td>3.099976</td>\n",
              "      <td>0.380001</td>\n",
              "    </tr>\n",
              "    <tr>\n",
              "      <th>2020-12-30</th>\n",
              "      <td>-1.949951</td>\n",
              "      <td>11.300049</td>\n",
              "      <td>0.400002</td>\n",
              "    </tr>\n",
              "    <tr>\n",
              "      <th>2020-12-31</th>\n",
              "      <td>6.329956</td>\n",
              "      <td>2.199951</td>\n",
              "      <td>0.119999</td>\n",
              "    </tr>\n",
              "    <tr>\n",
              "      <th>2021-01-02</th>\n",
              "      <td>-68.359985</td>\n",
              "      <td>-45.099976</td>\n",
              "      <td>5.029999</td>\n",
              "    </tr>\n",
              "    <tr>\n",
              "      <th>2021-01-03</th>\n",
              "      <td>150.660034</td>\n",
              "      <td>-136.400024</td>\n",
              "      <td>7.090000</td>\n",
              "    </tr>\n",
              "    <tr>\n",
              "      <th>2021-01-04</th>\n",
              "      <td>29.929932</td>\n",
              "      <td>0.200073</td>\n",
              "      <td>0.810001</td>\n",
              "    </tr>\n",
              "    <tr>\n",
              "      <th>2021-01-06</th>\n",
              "      <td>121.680054</td>\n",
              "      <td>176.899902</td>\n",
              "      <td>6.270000</td>\n",
              "    </tr>\n",
              "    <tr>\n",
              "      <th>2021-01-07</th>\n",
              "      <td>79.299927</td>\n",
              "      <td>-129.000000</td>\n",
              "      <td>7.510002</td>\n",
              "    </tr>\n",
              "    <tr>\n",
              "      <th>2021-01-09</th>\n",
              "      <td>-82.429932</td>\n",
              "      <td>35.000000</td>\n",
              "      <td>-6.640007</td>\n",
              "    </tr>\n",
              "    <tr>\n",
              "      <th>2021-01-10</th>\n",
              "      <td>0.239990</td>\n",
              "      <td>-58.599976</td>\n",
              "      <td>7.290001</td>\n",
              "    </tr>\n",
              "    <tr>\n",
              "      <th>2021-01-11</th>\n",
              "      <td>104.079956</td>\n",
              "      <td>38.400024</td>\n",
              "      <td>8.170006</td>\n",
              "    </tr>\n",
              "    <tr>\n",
              "      <th>2021-01-12</th>\n",
              "      <td>46.219971</td>\n",
              "      <td>-12.500000</td>\n",
              "      <td>-18.480003</td>\n",
              "    </tr>\n",
              "    <tr>\n",
              "      <th>2021-01-13</th>\n",
              "      <td>-299.139893</td>\n",
              "      <td>89.800049</td>\n",
              "      <td>-12.660000</td>\n",
              "    </tr>\n",
              "    <tr>\n",
              "      <th>2021-01-14</th>\n",
              "      <td>1.349976</td>\n",
              "      <td>-3.500000</td>\n",
              "      <td>0.660000</td>\n",
              "    </tr>\n",
              "    <tr>\n",
              "      <th>2021-01-15</th>\n",
              "      <td>6.799927</td>\n",
              "      <td>-22.800049</td>\n",
              "      <td>-1.209999</td>\n",
              "    </tr>\n",
              "    <tr>\n",
              "      <th>2021-01-18</th>\n",
              "      <td>-2.260010</td>\n",
              "      <td>-16.900024</td>\n",
              "      <td>0.000000</td>\n",
              "    </tr>\n",
              "    <tr>\n",
              "      <th>2021-01-19</th>\n",
              "      <td>-60.939941</td>\n",
              "      <td>25.400024</td>\n",
              "      <td>0.619999</td>\n",
              "    </tr>\n",
              "    <tr>\n",
              "      <th>2021-01-20</th>\n",
              "      <td>3.680054</td>\n",
              "      <td>25.500000</td>\n",
              "      <td>0.260002</td>\n",
              "    </tr>\n",
              "  </tbody>\n",
              "</table>\n",
              "</div>"
            ],
            "text/plain": [
              "            Stock_1_diff  Gold_1_diff  Oil_1_diff\n",
              "Ngày                                             \n",
              "2020-12-18     15.689941    -1.299927    0.739998\n",
              "2020-12-21     13.619995    -5.800049   -1.359997\n",
              "2020-12-22      2.369995   -11.800049   -0.720001\n",
              "2020-12-23     -4.549927     6.900024    1.099998\n",
              "2020-12-24    -11.380005     5.800049    0.110001\n",
              "2020-12-28     23.809937    -2.400024   -0.610001\n",
              "2020-12-29      8.160034     3.099976    0.380001\n",
              "2020-12-30     -1.949951    11.300049    0.400002\n",
              "2020-12-31      6.329956     2.199951    0.119999\n",
              "2021-01-02    -68.359985   -45.099976    5.029999\n",
              "2021-01-03    150.660034  -136.400024    7.090000\n",
              "2021-01-04     29.929932     0.200073    0.810001\n",
              "2021-01-06    121.680054   176.899902    6.270000\n",
              "2021-01-07     79.299927  -129.000000    7.510002\n",
              "2021-01-09    -82.429932    35.000000   -6.640007\n",
              "2021-01-10      0.239990   -58.599976    7.290001\n",
              "2021-01-11    104.079956    38.400024    8.170006\n",
              "2021-01-12     46.219971   -12.500000  -18.480003\n",
              "2021-01-13   -299.139893    89.800049  -12.660000\n",
              "2021-01-14      1.349976    -3.500000    0.660000\n",
              "2021-01-15      6.799927   -22.800049   -1.209999\n",
              "2021-01-18     -2.260010   -16.900024    0.000000\n",
              "2021-01-19    -60.939941    25.400024    0.619999\n",
              "2021-01-20      3.680054    25.500000    0.260002"
            ]
          },
          "execution_count": 85,
          "metadata": {},
          "output_type": "execute_result"
        }
      ],
      "source": [
        "df_train[-lag:]"
      ]
    },
    {
      "cell_type": "code",
      "execution_count": 106,
      "metadata": {
        "id": "saFUyF_N7TsI"
      },
      "outputs": [],
      "source": [
        "in_arr=df_train[-lag:][::-1].stack().to_frame().T.values"
      ]
    },
    {
      "cell_type": "code",
      "execution_count": 107,
      "metadata": {
        "colab": {
          "base_uri": "https://localhost:8080/"
        },
        "id": "wWk02qd67Tem",
        "outputId": "e013ba6a-d4c9-41ff-9004-cc566bcdadca"
      },
      "outputs": [
        {
          "data": {
            "text/plain": [
              "(1, 6)"
            ]
          },
          "execution_count": 107,
          "metadata": {},
          "output_type": "execute_result"
        }
      ],
      "source": [
        "in_arr.shape"
      ]
    },
    {
      "cell_type": "code",
      "execution_count": 108,
      "metadata": {
        "colab": {
          "base_uri": "https://localhost:8080/"
        },
        "id": "593Luc1u_60o",
        "outputId": "5c315bc9-c206-4f4b-f0c8-28a4fbbe7604"
      },
      "outputs": [
        {
          "data": {
            "text/plain": [
              "array([[  3.6800537 ,  25.5       ,   0.26000214, -60.93994   ,\n",
              "         25.400024  ,   0.61999893]], dtype=float32)"
            ]
          },
          "execution_count": 108,
          "metadata": {},
          "output_type": "execute_result"
        }
      ],
      "source": [
        "in_arr"
      ]
    },
    {
      "cell_type": "code",
      "execution_count": 109,
      "metadata": {
        "colab": {
          "base_uri": "https://localhost:8080/"
        },
        "id": "bVVxyZNo_A4X",
        "outputId": "a774e452-8188-4de8-89db-b1ffbc385ad9"
      },
      "outputs": [
        {
          "data": {
            "text/plain": [
              "array([10.80078608])"
            ]
          },
          "execution_count": 109,
          "metadata": {},
          "output_type": "execute_result"
        }
      ],
      "source": [
        "np.dot(in_arr, coeff_arr)+df_coeff['coeff'][:1].values"
      ]
    },
    {
      "cell_type": "code",
      "execution_count": 44,
      "metadata": {
        "id": "lGfrzBT3NAr_"
      },
      "outputs": [
        {
          "name": "stderr",
          "output_type": "stream",
          "text": [
            "d:\\Python\\Python39\\lib\\site-packages\\statsmodels\\tsa\\base\\tsa_model.py:471: ValueWarning: A date index has been provided, but it has no associated frequency information and so will be ignored when e.g. forecasting.\n",
            "  self._init_dates(dates, freq)\n"
          ]
        },
        {
          "name": "stdout",
          "output_type": "stream",
          "text": [
            "                                 Statespace Model Results                                \n",
            "=========================================================================================\n",
            "Dep. Variable:     ['Gold_1_diff', 'Oil_1_diff']   No. Observations:                 3295\n",
            "Model:                                   VARX(2)   Log Likelihood              -28991.756\n",
            "Date:                           Thu, 09 Jun 2022   AIC                          58009.512\n",
            "Time:                                   14:24:37   BIC                          58088.814\n",
            "Sample:                                        0   HQIC                         58037.901\n",
            "                                          - 3295                                         \n",
            "Covariance Type:                             opg                                         \n",
            "===================================================================================\n",
            "Ljung-Box (L1) (Q):            0.38, 11.19   Jarque-Bera (JB):   11073.60, 12206.57\n",
            "Prob(Q):                        0.54, 0.00   Prob(JB):                   0.00, 0.00\n",
            "Heteroskedasticity (H):         0.68, 1.36   Skew:                     -0.25, -0.48\n",
            "Prob(H) (two-sided):            0.00, 0.00   Kurtosis:                 11.97, 12.38\n",
            "                           Results for equation Gold_1_diff                          \n",
            "=====================================================================================\n",
            "                        coef    std err          z      P>|z|      [0.025      0.975]\n",
            "-------------------------------------------------------------------------------------\n",
            "L1.Gold_1_diff       -0.1594      0.016    -10.263      0.000      -0.190      -0.129\n",
            "L1.Oil_1_diff        -0.1811      0.163     -1.113      0.266      -0.500       0.138\n",
            "L2.Gold_1_diff       -0.1061      0.016     -6.456      0.000      -0.138      -0.074\n",
            "L2.Oil_1_diff        -0.6772      0.171     -3.950      0.000      -1.013      -0.341\n",
            "beta.Stock_1_diff     0.0576      0.016      3.609      0.000       0.026       0.089\n",
            "                           Results for equation Oil_1_diff                           \n",
            "=====================================================================================\n",
            "                        coef    std err          z      P>|z|      [0.025      0.975]\n",
            "-------------------------------------------------------------------------------------\n",
            "L1.Gold_1_diff       -0.0032      0.001     -2.754      0.006      -0.006      -0.001\n",
            "L1.Oil_1_diff        -0.2359      0.010    -24.530      0.000      -0.255      -0.217\n",
            "L2.Gold_1_diff       -0.0040      0.001     -3.210      0.001      -0.006      -0.002\n",
            "L2.Oil_1_diff        -0.2298      0.011    -20.636      0.000      -0.252      -0.208\n",
            "beta.Stock_1_diff     0.0457      0.001     44.337      0.000       0.044       0.048\n",
            "                                      Error covariance matrix                                      \n",
            "===================================================================================================\n",
            "                                      coef    std err          z      P>|z|      [0.025      0.975]\n",
            "---------------------------------------------------------------------------------------------------\n",
            "sqrt.var.Gold_1_diff               66.7034      0.374    178.531      0.000      65.971      67.436\n",
            "sqrt.cov.Gold_1_diff.Oil_1_diff     0.5341      0.065      8.215      0.000       0.407       0.662\n",
            "sqrt.var.Oil_1_diff                 5.8091      0.032    179.819      0.000       5.746       5.872\n",
            "===================================================================================================\n",
            "\n",
            "Warnings:\n",
            "[1] Covariance matrix calculated using the outer product of gradients (complex-step).\n"
          ]
        }
      ],
      "source": [
        "exog = df_input['Stock_1_diff']\n",
        "mod = sm.tsa.VARMAX(df_input[['Gold_1_diff', 'Oil_1_diff']], order=(2,0), trend='n', exog=exog)\n",
        "res = mod.fit(maxiter=1000, disp=False)\n",
        "print(res.summary())"
      ]
    },
    {
      "cell_type": "code",
      "execution_count": null,
      "metadata": {},
      "outputs": [],
      "source": []
    },
    {
      "cell_type": "code",
      "execution_count": 45,
      "metadata": {},
      "outputs": [],
      "source": [
        "def show_graph(df1,df2,title):\n",
        "    data = pd.concat([df1, df2])\n",
        "    data.reset_index(inplace=True, drop=True)\n",
        "    for col in data.columns:\n",
        "        if col.lower().startswith('pred'):\n",
        "            data[col].plot(label=col,linestyle=\"dotted\")\n",
        "        else:\n",
        "            data[col].plot(label=col)\n",
        "    plt.title(title)\n",
        "    plt.legend()\n",
        "    plt.show()\n"
      ]
    },
    {
      "cell_type": "code",
      "execution_count": 46,
      "metadata": {},
      "outputs": [
        {
          "name": "stderr",
          "output_type": "stream",
          "text": [
            "d:\\Python\\Python39\\lib\\site-packages\\statsmodels\\tsa\\statespace\\varmax.py:161: EstimationWarning: Estimation of VARMA(p,q) models is not generically robust, due especially to identification issues.\n",
            "  warn('Estimation of VARMA(p,q) models is not generically robust,'\n",
            "d:\\Python\\Python39\\lib\\site-packages\\statsmodels\\tsa\\base\\tsa_model.py:471: ValueWarning: A date index has been provided, but it has no associated frequency information and so will be ignored when e.g. forecasting.\n",
            "  self._init_dates(dates, freq)\n",
            "d:\\Python\\Python39\\lib\\site-packages\\statsmodels\\base\\model.py:604: ConvergenceWarning: Maximum Likelihood optimization failed to converge. Check mle_retvals\n",
            "  warnings.warn(\"Maximum Likelihood optimization failed to \"\n",
            "d:\\Python\\Python39\\lib\\site-packages\\statsmodels\\tsa\\base\\tsa_model.py:834: ValueWarning: No supported index is available. Prediction results will be given with an integer index beginning at `start`.\n",
            "  return get_prediction_index(\n",
            "\n",
            "KeyboardInterrupt\n",
            "\n"
          ]
        }
      ],
      "source": [
        "from statsmodels.tsa.statespace.varmax import VARMAX\n",
        "from random import random\n",
        "\n",
        "def VARMA_model(train,test):\n",
        "    # fit model\n",
        "    model = VARMAX(train, order=(1, 2))\n",
        "    model_fit = model.fit(disp=False)\n",
        "    # make prediction\n",
        "    yhat = model_fit.forecast(steps=len(test))\n",
        "    res=pd.DataFrame({\"Pred1\":yhat['Stock_1_diff'], \"Pred2\":yhat['Act2'], \n",
        "                      \"Act1\":test[\"Stock_1_diff\"].values, \"Act2\":test[\"Act2\"].values})\n",
        "    return res\n",
        "\n",
        "df_ret = VARMA_model(df_train, df_test)\n",
        "show_graph(df_train, df_ret, \"Vector Autoregression Moving-Average (VARMA)\")"
      ]
    }
  ],
  "metadata": {
    "colab": {
      "authorship_tag": "ABX9TyOUd9qea/fBytRLMdjOaTr0",
      "collapsed_sections": [],
      "include_colab_link": true,
      "name": "Multivariate Time Series using VAR.ipynb",
      "provenance": []
    },
    "interpreter": {
      "hash": "1eb71e714c2a1bbfc91d3a1ed02399b846367c62fca82a5b3a9325d7b60709de"
    },
    "kernelspec": {
      "display_name": "Python 3.9.6 64-bit",
      "language": "python",
      "name": "python3"
    },
    "language_info": {
      "codemirror_mode": {
        "name": "ipython",
        "version": 3
      },
      "file_extension": ".py",
      "mimetype": "text/x-python",
      "name": "python",
      "nbconvert_exporter": "python",
      "pygments_lexer": "ipython3",
      "version": "3.9.6"
    }
  },
  "nbformat": 4,
  "nbformat_minor": 0
}
